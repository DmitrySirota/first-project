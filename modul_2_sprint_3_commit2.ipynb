{
 "cells": [
  {
   "cell_type": "markdown",
   "metadata": {
    "toc": true
   },
   "source": [
    "<h1>Содержание<span class=\"tocSkip\"></span></h1>\n",
    "</span></li></ul></li><li><span><a href=\"#Подготовка-данных\" data-toc-modified-id=\"Подготовка-данных-1\"><span class=\"toc-item-num\">1&nbsp;&nbsp;</span>Подготовка данных</a></span></li><li><span><a href=\"#Исследование-задачи\" data-toc-modified-id=\"Исследование-задачи-2\"><span class=\"toc-item-num\">2&nbsp;&nbsp;</span>Исследование задачи</a></span></li><li><span><a href=\"#Борьба-с-дисбалансом\" data-toc-modified-id=\"Борьба-с-дисбалансом-3\"><span class=\"toc-item-num\">3&nbsp;&nbsp;</span>Борьба с дисбалансом</a></span></li><li><span><a href=\"#Тестирование-модели\" data-toc-modified-id=\"Тестирование-модели-4\"><span class=\"toc-item-num\">4&nbsp;&nbsp;</span>Тестирование модели</a></span></li><li><span><a href=\"#Общие-выводы\" data-toc-modified-id=\"Общие-выводы-5\"><span class=\"toc-item-num\">5&nbsp;&nbsp;</span>Общие выводы</a></span></li><li><span><a href=\"#Чек-лист-готовности-проекта\" data-toc-modified-id=\"Чек-лист-готовности-проекта-6\"><span class=\"toc-item-num\">6&nbsp;&nbsp;</span>Чек-лист готовности проекта</a></span></li></ul></div>"
   ]
  },
  {
   "cell_type": "markdown",
   "metadata": {},
   "source": [
    "# Отток клиентов"
   ]
  },
  {
   "cell_type": "markdown",
   "metadata": {},
   "source": [
    "Из «Бета-Банка» стали уходить клиенты. Каждый месяц. Немного, но заметно. Банковские маркетологи посчитали: сохранять текущих клиентов дешевле, чем привлекать новых.\n",
    "\n",
    "Необходимо спрогнозировать, уйдёт клиент из банка в ближайшее время или нет. Нам предоставлены исторические данные о поведении клиентов и расторжении договоров с банком. \n",
    "\n",
    "Построим модель с предельно большим значением *F1*-меры. Для успешной сдачи проекта нужно довести метрику до 0.59. Необходимо проверить *F1*-меру на тестовой выборке.\n",
    "\n",
    "Дополнительно измерим *AUC-ROC*, сравнивая её значение с *F1*-мерой.\n",
    "\n",
    "Источник данных: [https://www.kaggle.com/barelydedicated/bank-customer-churn-modeling](https://www.kaggle.com/barelydedicated/bank-customer-churn-modeling)\n",
    "\n",
    "**Признаки**\n",
    "- `RowNumber` — индекс строки в данных\n",
    "- `CustomerId` — уникальный идентификатор клиента\n",
    "- `Surname` — фамилия\n",
    "- `CreditScore` — кредитный рейтинг\n",
    "- `Geography` — страна проживания\n",
    "- `Gender` — пол\n",
    "- `Age` — возраст\n",
    "- `Tenure` — сколько лет человек является клиентом банка\n",
    "- `Balance` — баланс на счёте\n",
    "- `NumOfProducts` — количество продуктов банка, используемых клиентом\n",
    "- `HasCrCard` — наличие кредитной карты\n",
    "- `IsActiveMember` — активность клиента\n",
    "- `EstimatedSalary` — предполагаемая зарплата\n",
    "\n",
    "**Целевой признак**\n",
    "- `Exited` — факт ухода клиента"
   ]
  },
  {
   "cell_type": "markdown",
   "metadata": {},
   "source": [
    "## Подготовка данных"
   ]
  },
  {
   "cell_type": "markdown",
   "metadata": {},
   "source": [
    "Импортируем и изучим данные. Так как они взяты с kaggle.com, они, видимо, частично подготовлены."
   ]
  },
  {
   "cell_type": "code",
   "execution_count": 1,
   "metadata": {
    "scrolled": false
   },
   "outputs": [],
   "source": [
    "import pandas as pd\n",
    "import matplotlib.pyplot as plt\n",
    "import numpy as np\n",
    "from sklearn.preprocessing import StandardScaler\n",
    "from sklearn.tree import DecisionTreeClassifier\n",
    "from sklearn.ensemble import RandomForestClassifier\n",
    "from sklearn.metrics import accuracy_score\n",
    "from sklearn.metrics import f1_score\n",
    "from sklearn.metrics import roc_curve\n",
    "from sklearn.metrics import roc_auc_score\n",
    "from sklearn.utils import shuffle"
   ]
  },
  {
   "cell_type": "code",
   "execution_count": 2,
   "metadata": {},
   "outputs": [
    {
     "data": {
      "text/html": [
       "<div>\n",
       "<style scoped>\n",
       "    .dataframe tbody tr th:only-of-type {\n",
       "        vertical-align: middle;\n",
       "    }\n",
       "\n",
       "    .dataframe tbody tr th {\n",
       "        vertical-align: top;\n",
       "    }\n",
       "\n",
       "    .dataframe thead th {\n",
       "        text-align: right;\n",
       "    }\n",
       "</style>\n",
       "<table border=\"1\" class=\"dataframe\">\n",
       "  <thead>\n",
       "    <tr style=\"text-align: right;\">\n",
       "      <th></th>\n",
       "      <th>RowNumber</th>\n",
       "      <th>CustomerId</th>\n",
       "      <th>Surname</th>\n",
       "      <th>CreditScore</th>\n",
       "      <th>Geography</th>\n",
       "      <th>Gender</th>\n",
       "      <th>Age</th>\n",
       "      <th>Tenure</th>\n",
       "      <th>Balance</th>\n",
       "      <th>NumOfProducts</th>\n",
       "      <th>HasCrCard</th>\n",
       "      <th>IsActiveMember</th>\n",
       "      <th>EstimatedSalary</th>\n",
       "      <th>Exited</th>\n",
       "    </tr>\n",
       "  </thead>\n",
       "  <tbody>\n",
       "    <tr>\n",
       "      <th>9981</th>\n",
       "      <td>9982</td>\n",
       "      <td>15672754</td>\n",
       "      <td>Burbidge</td>\n",
       "      <td>498</td>\n",
       "      <td>Germany</td>\n",
       "      <td>Male</td>\n",
       "      <td>42</td>\n",
       "      <td>3.0</td>\n",
       "      <td>152039.70</td>\n",
       "      <td>1</td>\n",
       "      <td>1</td>\n",
       "      <td>1</td>\n",
       "      <td>53445.17</td>\n",
       "      <td>1</td>\n",
       "    </tr>\n",
       "    <tr>\n",
       "      <th>7656</th>\n",
       "      <td>7657</td>\n",
       "      <td>15575146</td>\n",
       "      <td>Jamieson</td>\n",
       "      <td>492</td>\n",
       "      <td>Germany</td>\n",
       "      <td>Male</td>\n",
       "      <td>51</td>\n",
       "      <td>8.0</td>\n",
       "      <td>117808.74</td>\n",
       "      <td>2</td>\n",
       "      <td>1</td>\n",
       "      <td>1</td>\n",
       "      <td>67311.12</td>\n",
       "      <td>0</td>\n",
       "    </tr>\n",
       "    <tr>\n",
       "      <th>1013</th>\n",
       "      <td>1014</td>\n",
       "      <td>15603594</td>\n",
       "      <td>Nwankwo</td>\n",
       "      <td>635</td>\n",
       "      <td>Spain</td>\n",
       "      <td>Male</td>\n",
       "      <td>24</td>\n",
       "      <td>4.0</td>\n",
       "      <td>0.00</td>\n",
       "      <td>2</td>\n",
       "      <td>1</td>\n",
       "      <td>1</td>\n",
       "      <td>70668.77</td>\n",
       "      <td>0</td>\n",
       "    </tr>\n",
       "    <tr>\n",
       "      <th>3120</th>\n",
       "      <td>3121</td>\n",
       "      <td>15694879</td>\n",
       "      <td>Reeves</td>\n",
       "      <td>590</td>\n",
       "      <td>Spain</td>\n",
       "      <td>Female</td>\n",
       "      <td>23</td>\n",
       "      <td>7.0</td>\n",
       "      <td>0.00</td>\n",
       "      <td>2</td>\n",
       "      <td>1</td>\n",
       "      <td>0</td>\n",
       "      <td>196789.90</td>\n",
       "      <td>0</td>\n",
       "    </tr>\n",
       "    <tr>\n",
       "      <th>568</th>\n",
       "      <td>569</td>\n",
       "      <td>15795564</td>\n",
       "      <td>Moretti</td>\n",
       "      <td>737</td>\n",
       "      <td>Germany</td>\n",
       "      <td>Male</td>\n",
       "      <td>31</td>\n",
       "      <td>5.0</td>\n",
       "      <td>121192.22</td>\n",
       "      <td>2</td>\n",
       "      <td>1</td>\n",
       "      <td>1</td>\n",
       "      <td>74890.58</td>\n",
       "      <td>0</td>\n",
       "    </tr>\n",
       "    <tr>\n",
       "      <th>4894</th>\n",
       "      <td>4895</td>\n",
       "      <td>15636872</td>\n",
       "      <td>Amadi</td>\n",
       "      <td>585</td>\n",
       "      <td>France</td>\n",
       "      <td>Female</td>\n",
       "      <td>32</td>\n",
       "      <td>8.0</td>\n",
       "      <td>144705.87</td>\n",
       "      <td>2</td>\n",
       "      <td>0</td>\n",
       "      <td>0</td>\n",
       "      <td>171482.56</td>\n",
       "      <td>0</td>\n",
       "    </tr>\n",
       "    <tr>\n",
       "      <th>7226</th>\n",
       "      <td>7227</td>\n",
       "      <td>15614813</td>\n",
       "      <td>Cocci</td>\n",
       "      <td>777</td>\n",
       "      <td>Germany</td>\n",
       "      <td>Female</td>\n",
       "      <td>46</td>\n",
       "      <td>0.0</td>\n",
       "      <td>107362.80</td>\n",
       "      <td>1</td>\n",
       "      <td>1</td>\n",
       "      <td>0</td>\n",
       "      <td>487.30</td>\n",
       "      <td>0</td>\n",
       "    </tr>\n",
       "    <tr>\n",
       "      <th>4060</th>\n",
       "      <td>4061</td>\n",
       "      <td>15593250</td>\n",
       "      <td>Hsiao</td>\n",
       "      <td>640</td>\n",
       "      <td>France</td>\n",
       "      <td>Female</td>\n",
       "      <td>29</td>\n",
       "      <td>4.0</td>\n",
       "      <td>0.00</td>\n",
       "      <td>2</td>\n",
       "      <td>1</td>\n",
       "      <td>0</td>\n",
       "      <td>44904.26</td>\n",
       "      <td>0</td>\n",
       "    </tr>\n",
       "    <tr>\n",
       "      <th>8656</th>\n",
       "      <td>8657</td>\n",
       "      <td>15791342</td>\n",
       "      <td>Johnston</td>\n",
       "      <td>660</td>\n",
       "      <td>Spain</td>\n",
       "      <td>Male</td>\n",
       "      <td>31</td>\n",
       "      <td>1.0</td>\n",
       "      <td>84560.04</td>\n",
       "      <td>1</td>\n",
       "      <td>1</td>\n",
       "      <td>1</td>\n",
       "      <td>137784.25</td>\n",
       "      <td>0</td>\n",
       "    </tr>\n",
       "    <tr>\n",
       "      <th>5313</th>\n",
       "      <td>5314</td>\n",
       "      <td>15794939</td>\n",
       "      <td>Chiu</td>\n",
       "      <td>783</td>\n",
       "      <td>France</td>\n",
       "      <td>Female</td>\n",
       "      <td>72</td>\n",
       "      <td>5.0</td>\n",
       "      <td>121215.90</td>\n",
       "      <td>2</td>\n",
       "      <td>1</td>\n",
       "      <td>1</td>\n",
       "      <td>105206.48</td>\n",
       "      <td>0</td>\n",
       "    </tr>\n",
       "  </tbody>\n",
       "</table>\n",
       "</div>"
      ],
      "text/plain": [
       "      RowNumber  CustomerId   Surname  CreditScore Geography  Gender  Age  \\\n",
       "9981       9982    15672754  Burbidge          498   Germany    Male   42   \n",
       "7656       7657    15575146  Jamieson          492   Germany    Male   51   \n",
       "1013       1014    15603594   Nwankwo          635     Spain    Male   24   \n",
       "3120       3121    15694879    Reeves          590     Spain  Female   23   \n",
       "568         569    15795564   Moretti          737   Germany    Male   31   \n",
       "4894       4895    15636872     Amadi          585    France  Female   32   \n",
       "7226       7227    15614813     Cocci          777   Germany  Female   46   \n",
       "4060       4061    15593250     Hsiao          640    France  Female   29   \n",
       "8656       8657    15791342  Johnston          660     Spain    Male   31   \n",
       "5313       5314    15794939      Chiu          783    France  Female   72   \n",
       "\n",
       "      Tenure    Balance  NumOfProducts  HasCrCard  IsActiveMember  \\\n",
       "9981     3.0  152039.70              1          1               1   \n",
       "7656     8.0  117808.74              2          1               1   \n",
       "1013     4.0       0.00              2          1               1   \n",
       "3120     7.0       0.00              2          1               0   \n",
       "568      5.0  121192.22              2          1               1   \n",
       "4894     8.0  144705.87              2          0               0   \n",
       "7226     0.0  107362.80              1          1               0   \n",
       "4060     4.0       0.00              2          1               0   \n",
       "8656     1.0   84560.04              1          1               1   \n",
       "5313     5.0  121215.90              2          1               1   \n",
       "\n",
       "      EstimatedSalary  Exited  \n",
       "9981         53445.17       1  \n",
       "7656         67311.12       0  \n",
       "1013         70668.77       0  \n",
       "3120        196789.90       0  \n",
       "568          74890.58       0  \n",
       "4894        171482.56       0  \n",
       "7226           487.30       0  \n",
       "4060         44904.26       0  \n",
       "8656        137784.25       0  \n",
       "5313        105206.48       0  "
      ]
     },
     "metadata": {},
     "output_type": "display_data"
    }
   ],
   "source": [
    "data = pd.read_csv('/Users/sirotadmitry/github_projects/first-project/Churn.csv')\n",
    "display(data.sample(10))"
   ]
  },
  {
   "cell_type": "code",
   "execution_count": 3,
   "metadata": {
    "scrolled": false
   },
   "outputs": [
    {
     "data": {
      "text/html": [
       "<div>\n",
       "<style scoped>\n",
       "    .dataframe tbody tr th:only-of-type {\n",
       "        vertical-align: middle;\n",
       "    }\n",
       "\n",
       "    .dataframe tbody tr th {\n",
       "        vertical-align: top;\n",
       "    }\n",
       "\n",
       "    .dataframe thead th {\n",
       "        text-align: right;\n",
       "    }\n",
       "</style>\n",
       "<table border=\"1\" class=\"dataframe\">\n",
       "  <thead>\n",
       "    <tr style=\"text-align: right;\">\n",
       "      <th></th>\n",
       "      <th>RowNumber</th>\n",
       "      <th>CustomerId</th>\n",
       "      <th>CreditScore</th>\n",
       "      <th>Age</th>\n",
       "      <th>Tenure</th>\n",
       "      <th>Balance</th>\n",
       "      <th>NumOfProducts</th>\n",
       "      <th>HasCrCard</th>\n",
       "      <th>IsActiveMember</th>\n",
       "      <th>EstimatedSalary</th>\n",
       "      <th>Exited</th>\n",
       "    </tr>\n",
       "  </thead>\n",
       "  <tbody>\n",
       "    <tr>\n",
       "      <th>count</th>\n",
       "      <td>10000.00000</td>\n",
       "      <td>1.000000e+04</td>\n",
       "      <td>10000.000000</td>\n",
       "      <td>10000.000000</td>\n",
       "      <td>9091.000000</td>\n",
       "      <td>10000.000000</td>\n",
       "      <td>10000.000000</td>\n",
       "      <td>10000.00000</td>\n",
       "      <td>10000.000000</td>\n",
       "      <td>10000.000000</td>\n",
       "      <td>10000.000000</td>\n",
       "    </tr>\n",
       "    <tr>\n",
       "      <th>mean</th>\n",
       "      <td>5000.50000</td>\n",
       "      <td>1.569094e+07</td>\n",
       "      <td>650.528800</td>\n",
       "      <td>38.921800</td>\n",
       "      <td>4.997690</td>\n",
       "      <td>76485.889288</td>\n",
       "      <td>1.530200</td>\n",
       "      <td>0.70550</td>\n",
       "      <td>0.515100</td>\n",
       "      <td>100090.239881</td>\n",
       "      <td>0.203700</td>\n",
       "    </tr>\n",
       "    <tr>\n",
       "      <th>std</th>\n",
       "      <td>2886.89568</td>\n",
       "      <td>7.193619e+04</td>\n",
       "      <td>96.653299</td>\n",
       "      <td>10.487806</td>\n",
       "      <td>2.894723</td>\n",
       "      <td>62397.405202</td>\n",
       "      <td>0.581654</td>\n",
       "      <td>0.45584</td>\n",
       "      <td>0.499797</td>\n",
       "      <td>57510.492818</td>\n",
       "      <td>0.402769</td>\n",
       "    </tr>\n",
       "    <tr>\n",
       "      <th>min</th>\n",
       "      <td>1.00000</td>\n",
       "      <td>1.556570e+07</td>\n",
       "      <td>350.000000</td>\n",
       "      <td>18.000000</td>\n",
       "      <td>0.000000</td>\n",
       "      <td>0.000000</td>\n",
       "      <td>1.000000</td>\n",
       "      <td>0.00000</td>\n",
       "      <td>0.000000</td>\n",
       "      <td>11.580000</td>\n",
       "      <td>0.000000</td>\n",
       "    </tr>\n",
       "    <tr>\n",
       "      <th>25%</th>\n",
       "      <td>2500.75000</td>\n",
       "      <td>1.562853e+07</td>\n",
       "      <td>584.000000</td>\n",
       "      <td>32.000000</td>\n",
       "      <td>2.000000</td>\n",
       "      <td>0.000000</td>\n",
       "      <td>1.000000</td>\n",
       "      <td>0.00000</td>\n",
       "      <td>0.000000</td>\n",
       "      <td>51002.110000</td>\n",
       "      <td>0.000000</td>\n",
       "    </tr>\n",
       "    <tr>\n",
       "      <th>50%</th>\n",
       "      <td>5000.50000</td>\n",
       "      <td>1.569074e+07</td>\n",
       "      <td>652.000000</td>\n",
       "      <td>37.000000</td>\n",
       "      <td>5.000000</td>\n",
       "      <td>97198.540000</td>\n",
       "      <td>1.000000</td>\n",
       "      <td>1.00000</td>\n",
       "      <td>1.000000</td>\n",
       "      <td>100193.915000</td>\n",
       "      <td>0.000000</td>\n",
       "    </tr>\n",
       "    <tr>\n",
       "      <th>75%</th>\n",
       "      <td>7500.25000</td>\n",
       "      <td>1.575323e+07</td>\n",
       "      <td>718.000000</td>\n",
       "      <td>44.000000</td>\n",
       "      <td>7.000000</td>\n",
       "      <td>127644.240000</td>\n",
       "      <td>2.000000</td>\n",
       "      <td>1.00000</td>\n",
       "      <td>1.000000</td>\n",
       "      <td>149388.247500</td>\n",
       "      <td>0.000000</td>\n",
       "    </tr>\n",
       "    <tr>\n",
       "      <th>max</th>\n",
       "      <td>10000.00000</td>\n",
       "      <td>1.581569e+07</td>\n",
       "      <td>850.000000</td>\n",
       "      <td>92.000000</td>\n",
       "      <td>10.000000</td>\n",
       "      <td>250898.090000</td>\n",
       "      <td>4.000000</td>\n",
       "      <td>1.00000</td>\n",
       "      <td>1.000000</td>\n",
       "      <td>199992.480000</td>\n",
       "      <td>1.000000</td>\n",
       "    </tr>\n",
       "  </tbody>\n",
       "</table>\n",
       "</div>"
      ],
      "text/plain": [
       "         RowNumber    CustomerId   CreditScore           Age       Tenure  \\\n",
       "count  10000.00000  1.000000e+04  10000.000000  10000.000000  9091.000000   \n",
       "mean    5000.50000  1.569094e+07    650.528800     38.921800     4.997690   \n",
       "std     2886.89568  7.193619e+04     96.653299     10.487806     2.894723   \n",
       "min        1.00000  1.556570e+07    350.000000     18.000000     0.000000   \n",
       "25%     2500.75000  1.562853e+07    584.000000     32.000000     2.000000   \n",
       "50%     5000.50000  1.569074e+07    652.000000     37.000000     5.000000   \n",
       "75%     7500.25000  1.575323e+07    718.000000     44.000000     7.000000   \n",
       "max    10000.00000  1.581569e+07    850.000000     92.000000    10.000000   \n",
       "\n",
       "             Balance  NumOfProducts    HasCrCard  IsActiveMember  \\\n",
       "count   10000.000000   10000.000000  10000.00000    10000.000000   \n",
       "mean    76485.889288       1.530200      0.70550        0.515100   \n",
       "std     62397.405202       0.581654      0.45584        0.499797   \n",
       "min         0.000000       1.000000      0.00000        0.000000   \n",
       "25%         0.000000       1.000000      0.00000        0.000000   \n",
       "50%     97198.540000       1.000000      1.00000        1.000000   \n",
       "75%    127644.240000       2.000000      1.00000        1.000000   \n",
       "max    250898.090000       4.000000      1.00000        1.000000   \n",
       "\n",
       "       EstimatedSalary        Exited  \n",
       "count     10000.000000  10000.000000  \n",
       "mean     100090.239881      0.203700  \n",
       "std       57510.492818      0.402769  \n",
       "min          11.580000      0.000000  \n",
       "25%       51002.110000      0.000000  \n",
       "50%      100193.915000      0.000000  \n",
       "75%      149388.247500      0.000000  \n",
       "max      199992.480000      1.000000  "
      ]
     },
     "metadata": {},
     "output_type": "display_data"
    }
   ],
   "source": [
    "display(data.describe())"
   ]
  },
  {
   "cell_type": "markdown",
   "metadata": {},
   "source": [
    "Выбросов в данных не наблюдается."
   ]
  },
  {
   "cell_type": "code",
   "execution_count": 4,
   "metadata": {},
   "outputs": [
    {
     "data": {
      "text/plain": [
       "(10000, 14)"
      ]
     },
     "metadata": {},
     "output_type": "display_data"
    }
   ],
   "source": [
    "display(data.shape)"
   ]
  },
  {
   "cell_type": "markdown",
   "metadata": {},
   "source": [
    "В датафрейме 10000 строк и 14 столбцов. В наличии категориальные столбцы: `Surname`, `Geography`, `Gender`. В некоторых фамилиях нераспознанные символы, заменены на символ \"?\". В столбце `Balance` есть отсутствующие данные."
   ]
  },
  {
   "cell_type": "code",
   "execution_count": 5,
   "metadata": {
    "scrolled": true
   },
   "outputs": [
    {
     "name": "stdout",
     "output_type": "stream",
     "text": [
      "<class 'pandas.core.frame.DataFrame'>\n",
      "RangeIndex: 10000 entries, 0 to 9999\n",
      "Data columns (total 14 columns):\n",
      " #   Column           Non-Null Count  Dtype  \n",
      "---  ------           --------------  -----  \n",
      " 0   RowNumber        10000 non-null  int64  \n",
      " 1   CustomerId       10000 non-null  int64  \n",
      " 2   Surname          10000 non-null  object \n",
      " 3   CreditScore      10000 non-null  int64  \n",
      " 4   Geography        10000 non-null  object \n",
      " 5   Gender           10000 non-null  object \n",
      " 6   Age              10000 non-null  int64  \n",
      " 7   Tenure           9091 non-null   float64\n",
      " 8   Balance          10000 non-null  float64\n",
      " 9   NumOfProducts    10000 non-null  int64  \n",
      " 10  HasCrCard        10000 non-null  int64  \n",
      " 11  IsActiveMember   10000 non-null  int64  \n",
      " 12  EstimatedSalary  10000 non-null  float64\n",
      " 13  Exited           10000 non-null  int64  \n",
      "dtypes: float64(3), int64(8), object(3)\n",
      "memory usage: 1.1+ MB\n"
     ]
    }
   ],
   "source": [
    "data.info()"
   ]
  },
  {
   "cell_type": "markdown",
   "metadata": {},
   "source": [
    "В столбце `Tenure` есть отсутствующие данные (909 шт.)"
   ]
  },
  {
   "cell_type": "markdown",
   "metadata": {},
   "source": [
    "Удалим пропущенные значения в датафрейме."
   ]
  },
  {
   "cell_type": "code",
   "execution_count": 6,
   "metadata": {},
   "outputs": [],
   "source": [
    "data = data.dropna()"
   ]
  },
  {
   "cell_type": "markdown",
   "metadata": {},
   "source": [
    "Посмотрим оригинальные данные в столбцах `Surname`, `Gender` и `Geofraphy`. В столбцах `Gender` и `Geofraphy` посчитаем количество оригинальных значений."
   ]
  },
  {
   "cell_type": "code",
   "execution_count": 7,
   "metadata": {
    "scrolled": false
   },
   "outputs": [
    {
     "data": {
      "text/plain": [
       "array(['Hargrave', 'Hill', 'Onio', ..., 'Kashiwagi', 'Aldridge',\n",
       "       'Burbidge'], dtype=object)"
      ]
     },
     "execution_count": 7,
     "metadata": {},
     "output_type": "execute_result"
    }
   ],
   "source": [
    "data['Surname'].unique()"
   ]
  },
  {
   "cell_type": "markdown",
   "metadata": {},
   "source": [
    "Очевидно, что столбец `Surname` с уникальными фамилиями соотносится сто столбцом `CustomerId`. По этой причине столбец `Surname` предобрабатывать не будем. Удалим столбец `Surname`, так как он не участвует в дальнейшем анализе."
   ]
  },
  {
   "cell_type": "code",
   "execution_count": 8,
   "metadata": {},
   "outputs": [],
   "source": [
    "data = data.drop(['Surname'], axis=1)"
   ]
  },
  {
   "cell_type": "code",
   "execution_count": 9,
   "metadata": {},
   "outputs": [
    {
     "data": {
      "text/plain": [
       "France     4550\n",
       "Germany    2293\n",
       "Spain      2248\n",
       "Name: Geography, dtype: int64"
      ]
     },
     "execution_count": 9,
     "metadata": {},
     "output_type": "execute_result"
    }
   ],
   "source": [
    "data['Geography'].value_counts()"
   ]
  },
  {
   "cell_type": "code",
   "execution_count": 10,
   "metadata": {},
   "outputs": [
    {
     "data": {
      "text/plain": [
       "Male      4974\n",
       "Female    4117\n",
       "Name: Gender, dtype: int64"
      ]
     },
     "execution_count": 10,
     "metadata": {},
     "output_type": "execute_result"
    }
   ],
   "source": [
    "data['Gender'].value_counts()"
   ]
  },
  {
   "cell_type": "markdown",
   "metadata": {},
   "source": [
    "Проведем обработку категориальных признаков в столбцах `Gender` и `Geofraphy` техникой One-Hot-Encoding. Кроме того, промасштабируем данные. Совместим кодирование категориальных и масштабирование численных признаков.\n",
    "\n",
    "Разобъем данные на три выборки: обучающую(60%), валидационную (20%) и тестовую (20%). Напечатаем размеры получившихся наборов."
   ]
  },
  {
   "cell_type": "code",
   "execution_count": 11,
   "metadata": {},
   "outputs": [
    {
     "data": {
      "text/plain": [
       "(5454, 14)"
      ]
     },
     "metadata": {},
     "output_type": "display_data"
    },
    {
     "data": {
      "text/plain": [
       "(1818, 14)"
      ]
     },
     "metadata": {},
     "output_type": "display_data"
    },
    {
     "data": {
      "text/plain": [
       "(1819, 14)"
      ]
     },
     "metadata": {},
     "output_type": "display_data"
    },
    {
     "data": {
      "text/plain": [
       "(5454, 13)"
      ]
     },
     "metadata": {},
     "output_type": "display_data"
    }
   ],
   "source": [
    "data_ohe = pd.get_dummies(data, drop_first=True) # OHE\n",
    "# Разбиение данных на три выборки: обучающую(60%), валидационную (20%) и тестовую (20%)\n",
    "data_train, data_valid, data_test = np.split(data_ohe.sample(frac=1), [int(.6*len(data)), int(.8*len(data))])\n",
    "# Напечатаем размеры получившихся наборов\n",
    "display(data_train.shape)\n",
    "display(data_valid.shape)\n",
    "display(data_test.shape)\n",
    "\n",
    "numeric = ['CustomerId', 'CreditScore', 'Age', 'Tenure', 'Balance',\n",
    "           'NumOfProducts', 'HasCrCard', 'IsActiveMember', 'EstimatedSalary']\n",
    "target_train = data_train['Exited']\n",
    "features_train = data_train.drop('Exited', axis=1)\n",
    "target_valid = data_valid['Exited']\n",
    "features_valid = data_valid.drop('Exited', axis=1)\n",
    "\n",
    "scaler = StandardScaler()\n",
    "scaler.fit(features_train[numeric])\n",
    "features_train[numeric] = scaler.transform(features_train[numeric])\n",
    "features_valid[numeric] = scaler.transform(features_valid[numeric])\n",
    "# Напечатаем размер features_train для проверки\n",
    "display(features_train.shape) "
   ]
  },
  {
   "cell_type": "markdown",
   "metadata": {},
   "source": [
    "**Вывод**\n",
    "\n",
    "Удалили столбец `Surname`. Удалили строки с пропущенными значениями.\n",
    "\n",
    "Провели обработку категориальных признаков в столбцах `Gender` и `Geofraphy` техникой One-Hot-Encoding.\n",
    "\n",
    "Разбили данные на три выборки: обучающую (60%), валидационную (20%) и тестовую (20%)."
   ]
  },
  {
   "cell_type": "markdown",
   "metadata": {},
   "source": [
    "## Исследование задачи"
   ]
  },
  {
   "cell_type": "markdown",
   "metadata": {},
   "source": [
    "Обучим модель решающего дерева и проверим accuracy."
   ]
  },
  {
   "cell_type": "code",
   "execution_count": 12,
   "metadata": {},
   "outputs": [
    {
     "name": "stdout",
     "output_type": "stream",
     "text": [
      "0.7656765676567657\n"
     ]
    }
   ],
   "source": [
    "model = DecisionTreeClassifier(random_state=12345)\n",
    "model.fit(features_train, target_train)\n",
    "predicted_valid = model.predict(features_valid) \n",
    "\n",
    "accuracy_valid = accuracy_score(target_valid, predicted_valid)\n",
    "print(accuracy_valid)"
   ]
  },
  {
   "cell_type": "markdown",
   "metadata": {},
   "source": [
    "Оценим адекватность модели, проверяя, как часто в целевом признаке встречается класс «1» или «0». Построим барплот."
   ]
  },
  {
   "cell_type": "code",
   "execution_count": 13,
   "metadata": {},
   "outputs": [
    {
     "name": "stdout",
     "output_type": "stream",
     "text": [
      "0    0.796062\n",
      "1    0.203938\n",
      "Name: Exited, dtype: float64\n"
     ]
    },
    {
     "data": {
      "text/plain": [
       "<AxesSubplot:>"
      ]
     },
     "execution_count": 13,
     "metadata": {},
     "output_type": "execute_result"
    },
    {
     "data": {
      "image/png": "[encoded data removed]",
      "text/plain": [
       "<Figure size 432x288 with 1 Axes>"
      ]
     },
     "metadata": {
      "needs_background": "light"
     },
     "output_type": "display_data"
    }
   ],
   "source": [
    "class_frequency_1_0 = data['Exited'].value_counts(normalize=0.5)\n",
    "print(class_frequency_1_0)\n",
    "class_frequency_1_0.plot(kind='bar')"
   ]
  },
  {
   "cell_type": "markdown",
   "metadata": {},
   "source": [
    "Проанализируем частоты классов в результатах предсказаний решающего дерева и построим по результатам барплот."
   ]
  },
  {
   "cell_type": "code",
   "execution_count": 14,
   "metadata": {},
   "outputs": [
    {
     "name": "stdout",
     "output_type": "stream",
     "text": [
      "0    0.754125\n",
      "1    0.245875\n",
      "dtype: float64\n"
     ]
    },
    {
     "data": {
      "text/plain": [
       "<AxesSubplot:>"
      ]
     },
     "execution_count": 14,
     "metadata": {},
     "output_type": "execute_result"
    },
    {
     "data": {
      "image/png": "[encoded data removed]",
      "text/plain": [
       "<Figure size 432x288 with 1 Axes>"
      ]
     },
     "metadata": {
      "needs_background": "light"
     },
     "output_type": "display_data"
    }
   ],
   "source": [
    "predicted_valid = pd.Series(model.predict(features_valid))\n",
    "\n",
    "class_frequency_pred = predicted_valid.value_counts(normalize=0.5)\n",
    "print(class_frequency_pred)\n",
    "class_frequency_pred.plot(kind='bar')"
   ]
  },
  {
   "cell_type": "markdown",
   "metadata": {},
   "source": [
    "Разницы в частотах классов практически нет."
   ]
  },
  {
   "cell_type": "markdown",
   "metadata": {},
   "source": [
    "Создадим константную модель: любому объекту она прогнозирует класс \"0\", сравним ее accuracy со значением нашей модели."
   ]
  },
  {
   "cell_type": "code",
   "execution_count": 15,
   "metadata": {},
   "outputs": [
    {
     "name": "stdout",
     "output_type": "stream",
     "text": [
      "0.7772277227722773\n"
     ]
    }
   ],
   "source": [
    "target_pred_constant = pd.Series(0, index=target_valid.index)\n",
    "print(accuracy_score(target_valid, target_pred_constant))"
   ]
  },
  {
   "cell_type": "markdown",
   "metadata": {},
   "source": [
    "Проверку на адекватность модель не прошла. Accuracy решающего дерева и константной модели почти одинаковы. В нашей задаче наблюдается сильный дисбаланс классов, что плохо сказывается на обучении модели."
   ]
  },
  {
   "cell_type": "markdown",
   "metadata": {},
   "source": [
    "Определим значение F1-меры."
   ]
  },
  {
   "cell_type": "code",
   "execution_count": 16,
   "metadata": {
    "scrolled": true
   },
   "outputs": [
    {
     "name": "stdout",
     "output_type": "stream",
     "text": [
      "0.5\n"
     ]
    }
   ],
   "source": [
    "print(f1_score(target_valid, predicted_valid))"
   ]
  },
  {
   "cell_type": "markdown",
   "metadata": {},
   "source": [
    "Значение F1-меры для решающего дерева равно 0.48. Прогноз класса \"1\" удался плохо."
   ]
  },
  {
   "cell_type": "markdown",
   "metadata": {},
   "source": [
    "Рассмотрим алгоритм классификации \"Случайный лес\" с гиперпараметром n_estimators от 1 до 20, max_depth от 1 до 20, min_samples_split и min_samples_leaf от 1 до 2."
   ]
  },
  {
   "cell_type": "code",
   "execution_count": 17,
   "metadata": {},
   "outputs": [
    {
     "name": "stdout",
     "output_type": "stream",
     "text": [
      "Accuracy наилучшей модели при n_estimators =  18 , max_depth =  18 , min_samples_split= 2 , min_samples_leaf = 2 на валидационной выборке: 0.8415841584158416\n"
     ]
    }
   ],
   "source": [
    "best_estimators = None\n",
    "best_max_depth_1 = None\n",
    "best_min_samples_split_1 = 1\n",
    "best_min_samples_leaf_1 = None\n",
    "best_result_1 = 0\n",
    "\n",
    "for est in range(1, 21):\n",
    "    for depth in range (1,21):\n",
    "        for samples_split in range(2,3):\n",
    "            for samples_leaf in range(2,3):\n",
    "                model_rf_1 = RandomForestClassifier(random_state=12345, n_estimators=est, max_depth=depth, min_samples_split = samples_split, min_samples_leaf = samples_leaf) # обучение модели\n",
    "                model_rf_1.fit(features_train, target_train) # обучение модели на тренировочной выборке\n",
    "                predicted_valid_rf_1 = model_rf_1.predict(features_valid) # предсказание\n",
    "                result_1 = accuracy_score(target_valid, predicted_valid_rf_1) # качество модели на валидационной выборке\n",
    "                if result_1 > best_result_1:\n",
    "                    best_estimators = est\n",
    "                    best_max_depth_1 = depth\n",
    "                    best_min_samples_split_1 = samples_split\n",
    "                    best_min_samples_leaf_1 = samples_leaf\n",
    "                    \n",
    "                    best_result_1 = result_1 #  сохранение наилучшего значения метрики accuracy на валидационных данных\n",
    "\n",
    "print(\"Accuracy наилучшей модели при n_estimators = \", best_estimators, \", max_depth = \", best_max_depth_1, \", min_samples_split=\", best_min_samples_split_1, \", min_samples_leaf =\",  best_min_samples_leaf_1, \"на валидационной выборке:\", best_result_1)\n",
    "\n"
   ]
  },
  {
   "cell_type": "code",
   "execution_count": 18,
   "metadata": {},
   "outputs": [
    {
     "name": "stdout",
     "output_type": "stream",
     "text": [
      "0.510108864696734\n"
     ]
    }
   ],
   "source": [
    "print(f1_score(target_valid, predicted_valid_rf_1))"
   ]
  },
  {
   "cell_type": "markdown",
   "metadata": {},
   "source": [
    "Значение F1-меры для модели случайного леса равно 0.57."
   ]
  },
  {
   "cell_type": "markdown",
   "metadata": {},
   "source": [
    "**Вывод**\n",
    "\n",
    "Accuracy решающего дерева и константной модели почти одинаковы. Проверку на адекватность модель не прошла. В нашей задаче наблюдается сильный дисбаланс классов, что плохо сказывается на обучении модели.\n",
    "\n",
    "Значение F1-меры для решающего дерева равно 0.49. Прогноз класса \"1\" удался плохо.\n",
    "\n",
    "Значение F1-меры для наилучшей модели случайного леса при n_estimators =  16 , max_depth =  09,  min_samples_split= 2 , min_samples_leaf = 2 равно 0.58."
   ]
  },
  {
   "cell_type": "markdown",
   "metadata": {},
   "source": [
    "## Борьба с дисбалансом"
   ]
  },
  {
   "cell_type": "markdown",
   "metadata": {},
   "source": [
    "Сбалансируем модель решающего дерева. Сделаем веса классов сбалансированными."
   ]
  },
  {
   "cell_type": "code",
   "execution_count": 19,
   "metadata": {},
   "outputs": [
    {
     "name": "stdout",
     "output_type": "stream",
     "text": [
      "F1: 0.4875\n"
     ]
    }
   ],
   "source": [
    "model_2 = DecisionTreeClassifier(random_state=12345, class_weight='balanced')\n",
    "model_2.fit(features_train, target_train)\n",
    "predicted_valid = model_2.predict(features_valid)\n",
    "print(\"F1:\", f1_score(target_valid, predicted_valid))"
   ]
  },
  {
   "cell_type": "markdown",
   "metadata": {},
   "source": [
    "F1-мера решающего дерева при балансировке увеличилась до 0.49."
   ]
  },
  {
   "cell_type": "markdown",
   "metadata": {},
   "source": [
    "Применим технику upsampling (увеличение выборки) на обучающей выборке."
   ]
  },
  {
   "cell_type": "code",
   "execution_count": 20,
   "metadata": {},
   "outputs": [
    {
     "name": "stdout",
     "output_type": "stream",
     "text": [
      "F1: 0.4836272040302267\n"
     ]
    }
   ],
   "source": [
    "def upsample(features_train, target_train, repeat):\n",
    "    features_zeros = features_train[target_train == 0]\n",
    "    features_ones = features_train[target_train == 1]\n",
    "    target_zeros = target_train[target_train == 0]\n",
    "    target_ones = target_train[target_train == 1]\n",
    "\n",
    "    features_upsampled = pd.concat([features_zeros] + [features_ones] * repeat)\n",
    "    target_upsampled = pd.concat([target_zeros] + [target_ones] * repeat)\n",
    "    \n",
    "    features_upsampled, target_upsampled = shuffle(\n",
    "        features_upsampled, target_upsampled, random_state=12345)\n",
    "    \n",
    "    return features_upsampled, target_upsampled\n",
    "\n",
    "features_upsampled, target_upsampled = upsample(features_train, target_train, 10)\n",
    "\n",
    "model_3 = DecisionTreeClassifier(random_state=12345)\n",
    "model_3.fit(features_upsampled, target_upsampled)\n",
    "predicted_valid = model_3.predict(features_valid)\n",
    "\n",
    "\n",
    "print(\"F1:\", f1_score(target_valid, predicted_valid))"
   ]
  },
  {
   "cell_type": "markdown",
   "metadata": {},
   "source": [
    "Метрика F1 решающего дерава при увеличении выборки уменьшилась до 0.48. Попробуем технику downsampling (уменьшение выборки)."
   ]
  },
  {
   "cell_type": "code",
   "execution_count": 21,
   "metadata": {},
   "outputs": [
    {
     "name": "stdout",
     "output_type": "stream",
     "text": [
      "F1: 0.4529085872576178\n"
     ]
    }
   ],
   "source": [
    "def downsample(features_train, target_train, fraction):\n",
    "    features_zeros = features_train[target_train == 0]\n",
    "    features_ones = features_train[target_train == 1]\n",
    "    target_zeros = target_train[target_train == 0]\n",
    "    target_ones = target_train[target_train == 1]\n",
    "\n",
    "    features_downsampled = pd.concat(\n",
    "        [features_zeros.sample(frac=fraction, random_state=12345)] + [features_ones])\n",
    "    target_downsampled = pd.concat(\n",
    "        [target_zeros.sample(frac=fraction, random_state=12345)] + [target_ones])\n",
    "    \n",
    "    features_downsampled, target_downsampled = shuffle(\n",
    "        features_downsampled, target_downsampled, random_state=12345)\n",
    "    \n",
    "    return features_downsampled, target_downsampled\n",
    "\n",
    "features_downsampled, target_downsampled = downsample(features_train, target_train, 0.1)\n",
    "\n",
    "model_4 = DecisionTreeClassifier(random_state=12345)\n",
    "model_4.fit(features_downsampled, target_downsampled)\n",
    "predicted_valid = model_4.predict(features_valid)\n",
    "\n",
    "print(\"F1:\", f1_score(target_valid, predicted_valid))"
   ]
  },
  {
   "cell_type": "markdown",
   "metadata": {},
   "source": [
    "Метрика F1 решающего дерава при уменьшении выборки уменьшилась до 0.46."
   ]
  },
  {
   "cell_type": "markdown",
   "metadata": {},
   "source": [
    "Сбалансируем модель случайного леса. Сделаем веса классов сбалансированными."
   ]
  },
  {
   "cell_type": "code",
   "execution_count": 22,
   "metadata": {
    "scrolled": true
   },
   "outputs": [
    {
     "name": "stdout",
     "output_type": "stream",
     "text": [
      "F1: 0.5902031063321386\n"
     ]
    }
   ],
   "source": [
    "model_rf_2 = RandomForestClassifier(random_state=12345, n_estimators=16, max_depth=9, min_samples_split= 2, min_samples_leaf = 2, class_weight='balanced')\n",
    "model_rf_2.fit(features_train, target_train)\n",
    "predicted_valid_rf_2 = model_rf_2.predict(features_valid)\n",
    "print(\"F1:\", f1_score(target_valid, predicted_valid_rf_2))"
   ]
  },
  {
   "cell_type": "markdown",
   "metadata": {},
   "source": [
    "F1-метрика для случайного леса при балансировке классов увеличилась до 0.60."
   ]
  },
  {
   "cell_type": "markdown",
   "metadata": {},
   "source": [
    "Применим технику upsampling (увеличение выборки) для модели случайного леса на обучающей выборке."
   ]
  },
  {
   "cell_type": "code",
   "execution_count": 23,
   "metadata": {
    "scrolled": true
   },
   "outputs": [
    {
     "name": "stdout",
     "output_type": "stream",
     "text": [
      "F1: 0.5984251968503937 при repeat =  4\n"
     ]
    }
   ],
   "source": [
    "best_repeat = 0\n",
    "best_f1_score = 0\n",
    "best_model_rf_3 = None\n",
    "\n",
    "for rep in range(1, 10):\n",
    "    features_upsampled, target_upsampled = upsample(features_train, target_train, repeat=rep)\n",
    "    model_rf_3 = RandomForestClassifier(random_state=12345, n_estimators=16, max_depth=9, min_samples_split= 2 , min_samples_leaf = 2)\n",
    "    model_rf_3_up = model_rf_3.fit(features_upsampled, target_upsampled)\n",
    "    predicted_valid_rf_3 = model_rf_3_up.predict(features_valid)\n",
    "    f1_score_rf_3 = f1_score(target_valid, predicted_valid_rf_3)\n",
    "    if f1_score_rf_3 > best_f1_score:\n",
    "        best_repeat = rep\n",
    "        best_f1_score = f1_score_rf_3\n",
    "        best_model_rf_3 = model_rf_3_up\n",
    "\n",
    "print(\"F1:\", best_f1_score, 'при repeat = ', best_repeat)"
   ]
  },
  {
   "cell_type": "markdown",
   "metadata": {},
   "source": [
    "F1-метрика для случайного леса при увеличении выборки показала наилучшее значение 0.62 при значении repeat = 3."
   ]
  },
  {
   "cell_type": "code",
   "execution_count": 24,
   "metadata": {
    "scrolled": true
   },
   "outputs": [
    {
     "name": "stdout",
     "output_type": "stream",
     "text": [
      "F1: 0.5497076023391813 при fraction =  0.0\n"
     ]
    }
   ],
   "source": [
    "best_fraction = 0\n",
    "best_f1_score_down = 0\n",
    "best_model_rf_4= None\n",
    "\n",
    "for fraction in np.arange(0, 1, 0.1):\n",
    "    features_downsampled, target_downsampled = downsample(features_train, target_train, fraction=fraction)\n",
    "    model_rf_4 = RandomForestClassifier(random_state=12345, n_estimators=16, max_depth=9, min_samples_split= 2 , min_samples_leaf = 2)\n",
    "    model_rf_4_down = model_rf_4.fit(features_downsampled, target_downsampled)\n",
    "    predicted_valid_rf_4 = model_rf_4.predict(features_valid)\n",
    "    f1_score_rf_4 = f1_score(target_valid, predicted_valid_rf_3)\n",
    "    if f1_score_rf_4 > best_f1_score_down:\n",
    "        best_fraction = fraction\n",
    "        best_f1_score_down = f1_score_rf_4\n",
    "        best_model_rf_4 = model_rf_4_down\n",
    "\n",
    "print(\"F1:\", best_f1_score_down, 'при fraction = ', best_fraction)"
   ]
  },
  {
   "cell_type": "markdown",
   "metadata": {},
   "source": [
    "F1-метрика для случайного леса при уменьшении выборки показала наилучшее значение 0.53 при значении fraction = 0."
   ]
  },
  {
   "cell_type": "markdown",
   "metadata": {},
   "source": [
    "Изменим значение порога для случайного леса и посмотрим, какой станет метрика F1."
   ]
  },
  {
   "cell_type": "code",
   "execution_count": 25,
   "metadata": {},
   "outputs": [
    {
     "name": "stdout",
     "output_type": "stream",
     "text": [
      "F1 наилучшей модели при n_estimators =  1 , max_depth =  1 при пороге =  0 на валидационной выборке: 0.5\n"
     ]
    }
   ],
   "source": [
    "best_estimators_5 = None\n",
    "best_max_depth_5 = None\n",
    "best_f1_score_rf_5 = 0\n",
    "best_threshold = 0\n",
    "\n",
    "\n",
    "for threshold in np.arange(0, 0.3, 0.02):\n",
    "    for est in range(1, 10):\n",
    "        for depth in range (1, 10):\n",
    "            model_rf_5 = RandomForestClassifier(random_state=12345, n_estimators=est, max_depth=depth)\n",
    "            model_rf_5.fit(features_train, target_train)\n",
    "            probabilities_valid = model.predict_proba(features_valid)\n",
    "            probabilities_one_valid = probabilities_valid[:, 1]\n",
    "            predicted_valid_rf_5 = probabilities_one_valid > threshold\n",
    "            f1_score_rf_5 = f1_score(target_valid, predicted_valid_rf_5)\n",
    "            if f1_score_rf_5 > best_f1_score_rf_5:\n",
    "                best_estimators_5 = est\n",
    "                best_max_depth_5 = depth\n",
    "                best_f1_score_rf_5 = f1_score_rf_5\n",
    "                best_treshold = threshold\n",
    "                \n",
    "print(\"F1 наилучшей модели при n_estimators = \", best_estimators_5, \", max_depth = \", best_max_depth_5, \"при пороге = \", best_threshold, \"на валидационной выборке:\", best_f1_score_rf_5) \n",
    "\n"
   ]
  },
  {
   "cell_type": "markdown",
   "metadata": {},
   "source": [
    "Изменение порога не приводит к изменению метрики F1."
   ]
  },
  {
   "cell_type": "markdown",
   "metadata": {},
   "source": [
    "**Вывод**\n",
    "\n",
    "Проведена борьба с дисбалансом модели решающего дерева. Проведена балансировка (F1 = 0.48), увеличение выборки (F1 = 0.48), уменьшение выборки (F1 = 0.46). \n",
    "\n",
    "Проведена борьба с дисбалансом модели случайного леса. Проведена балансировка (F1 = 0.60), увеличение выборки (F1 = 0.62, повтор = 3), уменьшение выборки (F1 = 0.53). Проведена попытка изменения порога. Величина порога не влияет на F1."
   ]
  },
  {
   "cell_type": "markdown",
   "metadata": {},
   "source": [
    "## Тестирование модели"
   ]
  },
  {
   "cell_type": "markdown",
   "metadata": {},
   "source": [
    "Протестируем модель, предварительно прошкалировав данные и увеличив выборку в два раза (repeat = 3)."
   ]
  },
  {
   "cell_type": "code",
   "execution_count": 26,
   "metadata": {},
   "outputs": [
    {
     "name": "stdout",
     "output_type": "stream",
     "text": [
      "F1: 0.6002372479240806\n"
     ]
    }
   ],
   "source": [
    "features_test = data_test.drop('Exited', axis=1)\n",
    "target_test = data_test['Exited']\n",
    "\n",
    "scaler = StandardScaler()\n",
    "scaler.fit(features_test[numeric])\n",
    "features_test[numeric] = scaler.transform(features_test[numeric])\n",
    "\n",
    "predictions_test = best_model_rf_3.predict(features_test)\n",
    "print(\"F1:\", f1_score(target_test, predictions_test))"
   ]
  },
  {
   "cell_type": "markdown",
   "metadata": {},
   "source": [
    "Для выбранной модели случайного леса метрика F1 при тестировании составила 0.61."
   ]
  },
  {
   "cell_type": "markdown",
   "metadata": {},
   "source": [
    "Изучим значения метрики AUC-ROC."
   ]
  },
  {
   "cell_type": "code",
   "execution_count": 27,
   "metadata": {},
   "outputs": [
    {
     "data": {
      "image/png": "[encoded data removed]",
      "text/plain": [
       "<Figure size 432x288 with 1 Axes>"
      ]
     },
     "metadata": {
      "needs_background": "light"
     },
     "output_type": "display_data"
    }
   ],
   "source": [
    "probabilities_valid_test = best_model_rf_3.predict_proba(features_test)\n",
    "probabilities_one_valid_test = probabilities_valid_test[:, 1]\n",
    "\n",
    "fpr, tpr, thresholds = roc_curve(target_test, probabilities_one_valid_test)\n",
    "\n",
    "plt.figure()\n",
    "plt.plot(fpr, tpr)\n",
    "plt.plot([0, 1], [0, 1], linestyle='--')\n",
    "plt.xlim([0.0, 1.0])\n",
    "plt.ylim([0.0, 1.0])\n",
    "plt.xlabel('False Positive Rate')\n",
    "plt.ylabel('True Positive Rate')\n",
    "plt.title('ROC-кривая')\n",
    "plt.show()"
   ]
  },
  {
   "cell_type": "code",
   "execution_count": 28,
   "metadata": {
    "scrolled": true
   },
   "outputs": [
    {
     "data": {
      "text/plain": [
       "0.848160796733697"
      ]
     },
     "metadata": {},
     "output_type": "display_data"
    }
   ],
   "source": [
    "auc_roc = roc_auc_score(target_test, probabilities_one_valid_test)\n",
    "\n",
    "display(auc_roc)"
   ]
  },
  {
   "cell_type": "markdown",
   "metadata": {},
   "source": [
    "Значение AUC-ROC = 0.84 и близко к единице. Значение AUC-ROC случайной модели равно 0.5. Наша модель сильно отличается от случайной."
   ]
  },
  {
   "cell_type": "markdown",
   "metadata": {},
   "source": [
    "**Вывод**\n",
    "\n",
    "Для выбранной модели случайного леса метрика F1 при тестировании составила 0.61.\n",
    "\n",
    "Значение AUC-ROC = 0.84 и близко к единице. Значение AUC-ROC случайной модели равно 0.5. Наша модель сильно отличается от случайной."
   ]
  },
  {
   "cell_type": "markdown",
   "metadata": {},
   "source": [
    "## Общие выводы"
   ]
  },
  {
   "cell_type": "markdown",
   "metadata": {},
   "source": [
    "Удалили столбец `Surname`. Удалили строки с пропущенными значениями.\n",
    "\n",
    "Провели обработку категориальных признаков в столбцах `Gender` и `Geofraphy` техникой One-Hot-Encoding.\n",
    "\n",
    "Разбили данные на три выборки: обучающую (60%), валидационную (20%) и тестовую (20%).\n",
    "\n",
    "Accuracy решающего дерева и константной модели почти одинаковы. Проверку на адекватность модель не прошла. В нашей задаче наблюдается сильный дисбаланс классов, что плохо сказывается на обучении модели.\n",
    "\n",
    "Значение F1-меры для решающего дерева равно 0.49. Прогноз класса \"1\" удался плохо.\n",
    "\n",
    "Значение F1-меры для наилучшей модели случайного леса при n_estimators =  18 , max_depth =  12 равно 0.57.\n",
    "\n",
    "Проведена борьба с дисбалансом модели решающего дерева. Проведена балансировка (F1 = 0.48), увеличение выборки (F1 = 0.48), уменьшение выборки (F1 = 0.46).\n",
    "\n",
    "Проведена борьба с дисбалансом модели случайного леса. Проведена балансировка (F1 = 0.60), увеличение выборки (F1 = 0.62, повтор = 3), уменьшение выборки (F1 = 0.53). Проведена попытка изменения порога. Величина порога не влияет на F1.\n",
    "\n",
    "Для выбранной модели случайного леса метрика F1 при тестировании составила 0.61.\n",
    "\n",
    "Значение AUC-ROC = 0.84 и близко к единице. Значение AUC-ROC случайной модели равно 0.5. Наша модель сильно отличается от случайной."
   ]
  },
  {
   "cell_type": "markdown",
   "metadata": {},
   "source": [
    "## Чек-лист готовности проекта"
   ]
  },
  {
   "cell_type": "markdown",
   "metadata": {},
   "source": [
    "Поставьте 'x' в выполненных пунктах. Далее нажмите Shift+Enter."
   ]
  },
  {
   "cell_type": "markdown",
   "metadata": {},
   "source": [
    "- [x]  Jupyter Notebook открыт\n",
    "- [x]  Весь код выполняется без ошибок\n",
    "- [x]  Ячейки с кодом расположены в порядке исполнения\n",
    "- [x]  Выполнен шаг 1: данные подготовлены\n",
    "- [x]  Выполнен шаг 2: задача исследована\n",
    "    - [x]  Исследован баланс классов\n",
    "    - [x]  Изучены модели без учёта дисбаланса\n",
    "    - [x]  Написаны выводы по результатам исследования\n",
    "- [x]  Выполнен шаг 3: учтён дисбаланс\n",
    "    - [x]  Применено несколько способов борьбы с дисбалансом\n",
    "    - [x]  Написаны выводы по результатам исследования\n",
    "- [x]  Выполнен шаг 4: проведено тестирование\n",
    "- [x]  Удалось достичь *F1*-меры не менее 0.59\n",
    "- [x]  Исследована метрика *AUC-ROC*"
   ]
  }
 ],
 "metadata": {
  "ExecuteTimeLog": [
   {
    "duration": 598,
    "start_time": "2022-01-30T09:41:33.553Z"
   },
   {
    "duration": 398,
    "start_time": "2022-01-30T09:48:53.204Z"
   },
   {
    "duration": 35,
    "start_time": "2022-01-30T09:49:00.306Z"
   },
   {
    "duration": 43,
    "start_time": "2022-01-30T09:49:47.223Z"
   },
   {
    "duration": 34,
    "start_time": "2022-01-30T09:50:04.576Z"
   },
   {
    "duration": 37,
    "start_time": "2022-01-30T09:52:04.056Z"
   },
   {
    "duration": 35,
    "start_time": "2022-01-30T09:52:18.215Z"
   },
   {
    "duration": 333,
    "start_time": "2022-01-30T10:19:57.984Z"
   },
   {
    "duration": 33,
    "start_time": "2022-01-30T10:20:09.751Z"
   },
   {
    "duration": 3,
    "start_time": "2022-01-30T10:22:20.091Z"
   },
   {
    "duration": 11,
    "start_time": "2022-01-30T10:22:48.075Z"
   },
   {
    "duration": 3,
    "start_time": "2022-01-30T10:23:05.166Z"
   },
   {
    "duration": 8,
    "start_time": "2022-01-30T10:28:51.567Z"
   },
   {
    "duration": 321,
    "start_time": "2022-01-30T10:34:06.930Z"
   },
   {
    "duration": 666,
    "start_time": "2022-01-30T10:35:25.785Z"
   },
   {
    "duration": 37,
    "start_time": "2022-01-30T10:36:00.974Z"
   },
   {
    "duration": 12,
    "start_time": "2022-01-30T10:36:09.297Z"
   },
   {
    "duration": 712,
    "start_time": "2022-02-01T16:58:22.004Z"
   },
   {
    "duration": 39,
    "start_time": "2022-02-01T16:58:22.718Z"
   },
   {
    "duration": 4,
    "start_time": "2022-02-01T16:58:22.759Z"
   },
   {
    "duration": 13,
    "start_time": "2022-02-01T16:58:22.764Z"
   },
   {
    "duration": 13,
    "start_time": "2022-02-01T16:58:22.779Z"
   },
   {
    "duration": 233,
    "start_time": "2022-02-03T18:49:37.250Z"
   },
   {
    "duration": 547,
    "start_time": "2022-02-03T18:49:49.708Z"
   },
   {
    "duration": 38,
    "start_time": "2022-02-03T18:49:50.257Z"
   },
   {
    "duration": 3,
    "start_time": "2022-02-03T18:49:50.297Z"
   },
   {
    "duration": 13,
    "start_time": "2022-02-03T18:49:50.302Z"
   },
   {
    "duration": 5,
    "start_time": "2022-02-03T18:49:50.317Z"
   },
   {
    "duration": 35,
    "start_time": "2022-02-03T18:49:50.324Z"
   },
   {
    "duration": 5,
    "start_time": "2022-02-03T18:50:27.513Z"
   },
   {
    "duration": 6,
    "start_time": "2022-02-03T18:50:35.987Z"
   },
   {
    "duration": 5,
    "start_time": "2022-02-03T18:50:58.083Z"
   },
   {
    "duration": 5,
    "start_time": "2022-02-03T18:52:32.751Z"
   },
   {
    "duration": 4,
    "start_time": "2022-02-03T18:52:42.678Z"
   },
   {
    "duration": 235,
    "start_time": "2022-02-03T18:52:50.700Z"
   },
   {
    "duration": 4,
    "start_time": "2022-02-03T18:53:14.724Z"
   },
   {
    "duration": 7,
    "start_time": "2022-02-03T18:54:43.753Z"
   },
   {
    "duration": 6,
    "start_time": "2022-02-03T18:55:57.701Z"
   },
   {
    "duration": 6,
    "start_time": "2022-02-03T18:56:08.187Z"
   },
   {
    "duration": 8,
    "start_time": "2022-02-03T18:57:35.268Z"
   },
   {
    "duration": 4,
    "start_time": "2022-02-03T18:57:58.516Z"
   },
   {
    "duration": 452,
    "start_time": "2022-02-03T19:08:28.536Z"
   },
   {
    "duration": 1026,
    "start_time": "2022-02-03T19:08:41.124Z"
   },
   {
    "duration": 47,
    "start_time": "2022-02-03T19:08:42.153Z"
   },
   {
    "duration": 4,
    "start_time": "2022-02-03T19:08:42.201Z"
   },
   {
    "duration": 10,
    "start_time": "2022-02-03T19:08:42.207Z"
   },
   {
    "duration": 15,
    "start_time": "2022-02-03T19:08:42.219Z"
   },
   {
    "duration": 27,
    "start_time": "2022-02-03T19:08:42.235Z"
   },
   {
    "duration": 9,
    "start_time": "2022-02-03T19:08:42.264Z"
   },
   {
    "duration": 13,
    "start_time": "2022-02-03T19:08:42.274Z"
   },
   {
    "duration": 4,
    "start_time": "2022-02-03T19:18:31.377Z"
   },
   {
    "duration": 411,
    "start_time": "2022-02-03T19:30:44.015Z"
   },
   {
    "duration": 620,
    "start_time": "2022-02-03T19:33:27.490Z"
   },
   {
    "duration": 3,
    "start_time": "2022-02-03T19:35:14.017Z"
   },
   {
    "duration": 170,
    "start_time": "2022-02-03T19:35:33.341Z"
   },
   {
    "duration": 285,
    "start_time": "2022-02-03T19:35:41.208Z"
   },
   {
    "duration": 187,
    "start_time": "2022-02-03T19:36:00.756Z"
   },
   {
    "duration": 208,
    "start_time": "2022-02-03T19:36:27.387Z"
   },
   {
    "duration": 199,
    "start_time": "2022-02-03T19:36:35.941Z"
   },
   {
    "duration": 988,
    "start_time": "2022-02-03T19:37:15.706Z"
   },
   {
    "duration": 38,
    "start_time": "2022-02-03T19:37:16.696Z"
   },
   {
    "duration": 3,
    "start_time": "2022-02-03T19:37:16.736Z"
   },
   {
    "duration": 21,
    "start_time": "2022-02-03T19:37:16.741Z"
   },
   {
    "duration": 6,
    "start_time": "2022-02-03T19:37:16.764Z"
   },
   {
    "duration": 6,
    "start_time": "2022-02-03T19:37:16.771Z"
   },
   {
    "duration": 8,
    "start_time": "2022-02-03T19:37:16.779Z"
   },
   {
    "duration": 9,
    "start_time": "2022-02-03T19:37:16.788Z"
   },
   {
    "duration": 5,
    "start_time": "2022-02-03T19:37:16.799Z"
   },
   {
    "duration": 280,
    "start_time": "2022-02-03T19:37:16.805Z"
   },
   {
    "duration": -1761,
    "start_time": "2022-02-03T19:37:18.849Z"
   },
   {
    "duration": 250,
    "start_time": "2022-02-03T19:37:36.253Z"
   },
   {
    "duration": 222,
    "start_time": "2022-02-03T19:38:08.235Z"
   },
   {
    "duration": 996,
    "start_time": "2022-02-03T19:38:23.907Z"
   },
   {
    "duration": 39,
    "start_time": "2022-02-03T19:38:24.905Z"
   },
   {
    "duration": 14,
    "start_time": "2022-02-03T19:38:24.946Z"
   },
   {
    "duration": 11,
    "start_time": "2022-02-03T19:38:24.962Z"
   },
   {
    "duration": 4,
    "start_time": "2022-02-03T19:38:24.975Z"
   },
   {
    "duration": 263,
    "start_time": "2022-02-03T19:38:24.981Z"
   },
   {
    "duration": -1209,
    "start_time": "2022-02-03T19:38:26.455Z"
   },
   {
    "duration": -1209,
    "start_time": "2022-02-03T19:38:26.456Z"
   },
   {
    "duration": -1214,
    "start_time": "2022-02-03T19:38:26.462Z"
   },
   {
    "duration": -1215,
    "start_time": "2022-02-03T19:38:26.464Z"
   },
   {
    "duration": -1217,
    "start_time": "2022-02-03T19:38:26.466Z"
   },
   {
    "duration": 192,
    "start_time": "2022-02-03T19:38:42.295Z"
   },
   {
    "duration": 6,
    "start_time": "2022-02-03T19:38:53.191Z"
   },
   {
    "duration": 186,
    "start_time": "2022-02-03T19:39:07.510Z"
   },
   {
    "duration": 180,
    "start_time": "2022-02-03T19:39:10.387Z"
   },
   {
    "duration": 192,
    "start_time": "2022-02-03T19:39:18.972Z"
   },
   {
    "duration": 178,
    "start_time": "2022-02-03T19:39:36.185Z"
   },
   {
    "duration": 176,
    "start_time": "2022-02-03T19:39:47.852Z"
   },
   {
    "duration": 194,
    "start_time": "2022-02-03T19:40:01.346Z"
   },
   {
    "duration": 178,
    "start_time": "2022-02-03T19:40:10.860Z"
   },
   {
    "duration": 25,
    "start_time": "2022-02-03T19:40:25.471Z"
   },
   {
    "duration": 28,
    "start_time": "2022-02-03T19:40:35.414Z"
   },
   {
    "duration": 6,
    "start_time": "2022-02-03T19:40:46.582Z"
   },
   {
    "duration": 6,
    "start_time": "2022-02-03T19:40:50.856Z"
   },
   {
    "duration": 187,
    "start_time": "2022-02-03T19:43:48.897Z"
   },
   {
    "duration": 214,
    "start_time": "2022-02-03T19:44:03.218Z"
   },
   {
    "duration": 185,
    "start_time": "2022-02-03T19:44:21.401Z"
   },
   {
    "duration": 1008,
    "start_time": "2022-02-03T19:44:40.901Z"
   },
   {
    "duration": 42,
    "start_time": "2022-02-03T19:44:41.911Z"
   },
   {
    "duration": 3,
    "start_time": "2022-02-03T19:44:41.960Z"
   },
   {
    "duration": 11,
    "start_time": "2022-02-03T19:44:41.965Z"
   },
   {
    "duration": 7,
    "start_time": "2022-02-03T19:44:41.978Z"
   },
   {
    "duration": 9,
    "start_time": "2022-02-03T19:44:41.987Z"
   },
   {
    "duration": 12,
    "start_time": "2022-02-03T19:44:41.998Z"
   },
   {
    "duration": 19,
    "start_time": "2022-02-03T19:44:42.011Z"
   },
   {
    "duration": 463,
    "start_time": "2022-02-03T19:44:42.033Z"
   },
   {
    "duration": 11,
    "start_time": "2022-02-03T19:44:42.498Z"
   },
   {
    "duration": 615,
    "start_time": "2022-02-03T19:47:10.607Z"
   },
   {
    "duration": 1014,
    "start_time": "2022-02-03T19:47:32.783Z"
   },
   {
    "duration": 39,
    "start_time": "2022-02-03T19:47:33.799Z"
   },
   {
    "duration": 3,
    "start_time": "2022-02-03T19:47:33.840Z"
   },
   {
    "duration": 18,
    "start_time": "2022-02-03T19:47:33.845Z"
   },
   {
    "duration": 4,
    "start_time": "2022-02-03T19:47:33.865Z"
   },
   {
    "duration": 7,
    "start_time": "2022-02-03T19:47:33.870Z"
   },
   {
    "duration": 7,
    "start_time": "2022-02-03T19:47:33.879Z"
   },
   {
    "duration": 5,
    "start_time": "2022-02-03T19:47:33.888Z"
   },
   {
    "duration": 691,
    "start_time": "2022-02-03T19:47:33.895Z"
   },
   {
    "duration": -7611,
    "start_time": "2022-02-03T19:47:42.200Z"
   },
   {
    "duration": 387,
    "start_time": "2022-02-03T19:49:25.960Z"
   },
   {
    "duration": 644,
    "start_time": "2022-02-03T19:49:40.599Z"
   },
   {
    "duration": 170,
    "start_time": "2022-02-03T19:50:49.348Z"
   },
   {
    "duration": 187,
    "start_time": "2022-02-03T19:51:05.045Z"
   },
   {
    "duration": 186,
    "start_time": "2022-02-03T19:51:47.020Z"
   },
   {
    "duration": 5,
    "start_time": "2022-02-03T19:52:04.905Z"
   },
   {
    "duration": 174,
    "start_time": "2022-02-03T19:52:19.776Z"
   },
   {
    "duration": 178,
    "start_time": "2022-02-03T19:52:28.417Z"
   },
   {
    "duration": 166,
    "start_time": "2022-02-03T19:52:37.598Z"
   },
   {
    "duration": 174,
    "start_time": "2022-02-03T19:55:09.278Z"
   },
   {
    "duration": 1061,
    "start_time": "2022-02-03T19:55:54.834Z"
   },
   {
    "duration": 41,
    "start_time": "2022-02-03T19:55:55.898Z"
   },
   {
    "duration": 18,
    "start_time": "2022-02-03T19:55:55.942Z"
   },
   {
    "duration": 10,
    "start_time": "2022-02-03T19:55:55.962Z"
   },
   {
    "duration": 5,
    "start_time": "2022-02-03T19:55:55.974Z"
   },
   {
    "duration": 14,
    "start_time": "2022-02-03T19:55:55.981Z"
   },
   {
    "duration": 10,
    "start_time": "2022-02-03T19:55:55.997Z"
   },
   {
    "duration": 7,
    "start_time": "2022-02-03T19:55:56.010Z"
   },
   {
    "duration": 43,
    "start_time": "2022-02-03T19:55:56.019Z"
   },
   {
    "duration": 28,
    "start_time": "2022-02-03T19:55:56.064Z"
   },
   {
    "duration": 12,
    "start_time": "2022-02-03T19:55:56.094Z"
   },
   {
    "duration": 258,
    "start_time": "2022-02-03T19:56:16.493Z"
   },
   {
    "duration": 221,
    "start_time": "2022-02-03T19:56:24.063Z"
   },
   {
    "duration": 180,
    "start_time": "2022-02-03T19:56:33.139Z"
   },
   {
    "duration": 1057,
    "start_time": "2022-02-03T19:56:45.247Z"
   },
   {
    "duration": 38,
    "start_time": "2022-02-03T19:56:46.306Z"
   },
   {
    "duration": 3,
    "start_time": "2022-02-03T19:56:46.346Z"
   },
   {
    "duration": 13,
    "start_time": "2022-02-03T19:56:46.351Z"
   },
   {
    "duration": 6,
    "start_time": "2022-02-03T19:56:46.366Z"
   },
   {
    "duration": 4,
    "start_time": "2022-02-03T19:56:46.373Z"
   },
   {
    "duration": 11,
    "start_time": "2022-02-03T19:56:46.378Z"
   },
   {
    "duration": 7,
    "start_time": "2022-02-03T19:56:46.390Z"
   },
   {
    "duration": 5,
    "start_time": "2022-02-03T19:56:46.399Z"
   },
   {
    "duration": 55,
    "start_time": "2022-02-03T19:56:46.406Z"
   },
   {
    "duration": 11,
    "start_time": "2022-02-03T19:56:46.463Z"
   },
   {
    "duration": 4,
    "start_time": "2022-02-03T19:56:57.693Z"
   },
   {
    "duration": 1023,
    "start_time": "2022-02-03T19:58:05.485Z"
   },
   {
    "duration": 39,
    "start_time": "2022-02-03T19:58:06.510Z"
   },
   {
    "duration": 4,
    "start_time": "2022-02-03T19:58:06.559Z"
   },
   {
    "duration": 19,
    "start_time": "2022-02-03T19:58:06.564Z"
   },
   {
    "duration": 7,
    "start_time": "2022-02-03T19:58:06.584Z"
   },
   {
    "duration": 18,
    "start_time": "2022-02-03T19:58:06.592Z"
   },
   {
    "duration": 12,
    "start_time": "2022-02-03T19:58:06.611Z"
   },
   {
    "duration": 8,
    "start_time": "2022-02-03T19:58:06.625Z"
   },
   {
    "duration": 6,
    "start_time": "2022-02-03T19:58:06.635Z"
   },
   {
    "duration": 31,
    "start_time": "2022-02-03T19:58:06.643Z"
   },
   {
    "duration": 9,
    "start_time": "2022-02-03T19:58:06.676Z"
   },
   {
    "duration": 1015,
    "start_time": "2022-02-03T19:59:28.484Z"
   },
   {
    "duration": 38,
    "start_time": "2022-02-03T19:59:29.501Z"
   },
   {
    "duration": 19,
    "start_time": "2022-02-03T19:59:29.541Z"
   },
   {
    "duration": 11,
    "start_time": "2022-02-03T19:59:29.562Z"
   },
   {
    "duration": 4,
    "start_time": "2022-02-03T19:59:29.575Z"
   },
   {
    "duration": 6,
    "start_time": "2022-02-03T19:59:29.581Z"
   },
   {
    "duration": 14,
    "start_time": "2022-02-03T19:59:29.588Z"
   },
   {
    "duration": 13,
    "start_time": "2022-02-03T19:59:29.605Z"
   },
   {
    "duration": 44,
    "start_time": "2022-02-03T19:59:29.620Z"
   },
   {
    "duration": 11,
    "start_time": "2022-02-03T19:59:29.666Z"
   },
   {
    "duration": 47,
    "start_time": "2022-02-03T20:01:30.019Z"
   },
   {
    "duration": 45,
    "start_time": "2022-02-03T20:02:09.811Z"
   },
   {
    "duration": 46,
    "start_time": "2022-02-03T20:03:05.402Z"
   },
   {
    "duration": 254,
    "start_time": "2022-02-03T20:10:16.590Z"
   },
   {
    "duration": 1015,
    "start_time": "2022-02-03T20:11:21.713Z"
   },
   {
    "duration": 38,
    "start_time": "2022-02-03T20:11:22.730Z"
   },
   {
    "duration": 3,
    "start_time": "2022-02-03T20:11:22.770Z"
   },
   {
    "duration": 10,
    "start_time": "2022-02-03T20:11:22.774Z"
   },
   {
    "duration": 4,
    "start_time": "2022-02-03T20:11:22.786Z"
   },
   {
    "duration": 182,
    "start_time": "2022-02-03T20:11:47.796Z"
   },
   {
    "duration": 1081,
    "start_time": "2022-02-03T20:12:00.059Z"
   },
   {
    "duration": 39,
    "start_time": "2022-02-03T20:12:01.142Z"
   },
   {
    "duration": 4,
    "start_time": "2022-02-03T20:12:01.183Z"
   },
   {
    "duration": 11,
    "start_time": "2022-02-03T20:12:01.189Z"
   },
   {
    "duration": 16,
    "start_time": "2022-02-03T20:12:01.201Z"
   },
   {
    "duration": 15,
    "start_time": "2022-02-03T20:12:01.218Z"
   },
   {
    "duration": 17,
    "start_time": "2022-02-03T20:12:01.235Z"
   },
   {
    "duration": 14,
    "start_time": "2022-02-03T20:12:01.253Z"
   },
   {
    "duration": 59,
    "start_time": "2022-02-03T20:12:01.269Z"
   },
   {
    "duration": 326,
    "start_time": "2022-02-03T20:12:01.330Z"
   },
   {
    "duration": 42,
    "start_time": "2022-02-03T20:15:44.573Z"
   },
   {
    "duration": 46,
    "start_time": "2022-02-03T20:15:55.488Z"
   },
   {
    "duration": 40,
    "start_time": "2022-02-03T20:16:14.960Z"
   },
   {
    "duration": 9,
    "start_time": "2022-02-03T20:17:31.055Z"
   },
   {
    "duration": 7,
    "start_time": "2022-02-03T20:17:44.387Z"
   },
   {
    "duration": 181,
    "start_time": "2022-02-03T20:20:50.576Z"
   },
   {
    "duration": 1080,
    "start_time": "2022-02-03T20:21:23.629Z"
   },
   {
    "duration": 37,
    "start_time": "2022-02-03T20:21:24.710Z"
   },
   {
    "duration": 3,
    "start_time": "2022-02-03T20:21:24.749Z"
   },
   {
    "duration": 8,
    "start_time": "2022-02-03T20:21:24.758Z"
   },
   {
    "duration": 7,
    "start_time": "2022-02-03T20:21:24.767Z"
   },
   {
    "duration": 5,
    "start_time": "2022-02-03T20:21:24.775Z"
   },
   {
    "duration": 7,
    "start_time": "2022-02-03T20:21:24.781Z"
   },
   {
    "duration": 8,
    "start_time": "2022-02-03T20:21:24.790Z"
   },
   {
    "duration": 17,
    "start_time": "2022-02-03T20:21:24.799Z"
   },
   {
    "duration": 72,
    "start_time": "2022-02-03T20:21:24.818Z"
   },
   {
    "duration": 42,
    "start_time": "2022-02-03T20:21:24.891Z"
   },
   {
    "duration": 214,
    "start_time": "2022-02-03T20:27:38.747Z"
   },
   {
    "duration": 61,
    "start_time": "2022-02-03T20:29:18.147Z"
   },
   {
    "duration": 133,
    "start_time": "2022-02-03T20:30:29.383Z"
   },
   {
    "duration": 130,
    "start_time": "2022-02-03T20:30:42.367Z"
   },
   {
    "duration": 129,
    "start_time": "2022-02-03T20:31:19.219Z"
   },
   {
    "duration": 258,
    "start_time": "2022-02-03T20:36:02.523Z"
   },
   {
    "duration": 188,
    "start_time": "2022-02-03T20:37:15.974Z"
   },
   {
    "duration": 5,
    "start_time": "2022-02-03T20:37:27.175Z"
   },
   {
    "duration": 41,
    "start_time": "2022-02-03T20:47:03.615Z"
   },
   {
    "duration": 1090,
    "start_time": "2022-02-03T20:47:14.731Z"
   },
   {
    "duration": 37,
    "start_time": "2022-02-03T20:47:15.822Z"
   },
   {
    "duration": 3,
    "start_time": "2022-02-03T20:47:15.861Z"
   },
   {
    "duration": 8,
    "start_time": "2022-02-03T20:47:15.866Z"
   },
   {
    "duration": 5,
    "start_time": "2022-02-03T20:47:15.876Z"
   },
   {
    "duration": 4,
    "start_time": "2022-02-03T20:47:15.883Z"
   },
   {
    "duration": 9,
    "start_time": "2022-02-03T20:47:15.888Z"
   },
   {
    "duration": 12,
    "start_time": "2022-02-03T20:47:15.898Z"
   },
   {
    "duration": 12,
    "start_time": "2022-02-03T20:47:15.912Z"
   },
   {
    "duration": 64,
    "start_time": "2022-02-03T20:47:15.925Z"
   },
   {
    "duration": 41,
    "start_time": "2022-02-03T20:47:15.991Z"
   },
   {
    "duration": 229,
    "start_time": "2022-02-03T20:47:16.033Z"
   },
   {
    "duration": 150,
    "start_time": "2022-02-03T20:47:16.263Z"
   },
   {
    "duration": 5,
    "start_time": "2022-02-03T20:47:16.415Z"
   },
   {
    "duration": 6,
    "start_time": "2022-02-03T20:49:01.062Z"
   },
   {
    "duration": 78,
    "start_time": "2022-02-03T20:51:07.022Z"
   },
   {
    "duration": 54,
    "start_time": "2022-02-03T20:52:16.659Z"
   },
   {
    "duration": 1021,
    "start_time": "2022-02-03T20:57:02.113Z"
   },
   {
    "duration": 39,
    "start_time": "2022-02-03T20:57:03.136Z"
   },
   {
    "duration": 4,
    "start_time": "2022-02-03T20:57:03.177Z"
   },
   {
    "duration": 18,
    "start_time": "2022-02-03T20:57:03.183Z"
   },
   {
    "duration": 16,
    "start_time": "2022-02-03T20:57:03.203Z"
   },
   {
    "duration": 4,
    "start_time": "2022-02-03T20:57:03.221Z"
   },
   {
    "duration": 6,
    "start_time": "2022-02-03T20:57:03.227Z"
   },
   {
    "duration": 9,
    "start_time": "2022-02-03T20:57:03.234Z"
   },
   {
    "duration": 18,
    "start_time": "2022-02-03T20:57:03.245Z"
   },
   {
    "duration": 44,
    "start_time": "2022-02-03T20:57:03.265Z"
   },
   {
    "duration": 62,
    "start_time": "2022-02-03T20:57:03.310Z"
   },
   {
    "duration": 227,
    "start_time": "2022-02-03T20:57:03.374Z"
   },
   {
    "duration": 148,
    "start_time": "2022-02-03T20:57:03.603Z"
   },
   {
    "duration": 8,
    "start_time": "2022-02-03T20:57:03.753Z"
   },
   {
    "duration": 7,
    "start_time": "2022-02-03T20:57:03.763Z"
   },
   {
    "duration": 259,
    "start_time": "2022-02-03T20:57:03.772Z"
   },
   {
    "duration": 42,
    "start_time": "2022-02-03T20:57:38.161Z"
   },
   {
    "duration": 64,
    "start_time": "2022-02-03T21:01:37.461Z"
   },
   {
    "duration": 56,
    "start_time": "2022-02-03T21:01:40.890Z"
   },
   {
    "duration": 357,
    "start_time": "2022-02-03T21:08:16.241Z"
   },
   {
    "duration": 1033,
    "start_time": "2022-02-03T21:08:53.515Z"
   },
   {
    "duration": 41,
    "start_time": "2022-02-03T21:08:54.550Z"
   },
   {
    "duration": 3,
    "start_time": "2022-02-03T21:08:54.593Z"
   },
   {
    "duration": 13,
    "start_time": "2022-02-03T21:08:54.598Z"
   },
   {
    "duration": 17,
    "start_time": "2022-02-03T21:08:54.613Z"
   },
   {
    "duration": 13,
    "start_time": "2022-02-03T21:08:54.631Z"
   },
   {
    "duration": 6,
    "start_time": "2022-02-03T21:08:54.646Z"
   },
   {
    "duration": 5,
    "start_time": "2022-02-03T21:08:54.659Z"
   },
   {
    "duration": 6,
    "start_time": "2022-02-03T21:08:54.667Z"
   },
   {
    "duration": 42,
    "start_time": "2022-02-03T21:08:54.674Z"
   },
   {
    "duration": 68,
    "start_time": "2022-02-03T21:08:54.718Z"
   },
   {
    "duration": 216,
    "start_time": "2022-02-03T21:08:54.788Z"
   },
   {
    "duration": 154,
    "start_time": "2022-02-03T21:08:55.006Z"
   },
   {
    "duration": 5,
    "start_time": "2022-02-03T21:08:55.162Z"
   },
   {
    "duration": 5,
    "start_time": "2022-02-03T21:08:55.169Z"
   },
   {
    "duration": 41,
    "start_time": "2022-02-03T21:08:55.176Z"
   },
   {
    "duration": 104,
    "start_time": "2022-02-03T21:08:55.219Z"
   },
   {
    "duration": 42,
    "start_time": "2022-02-03T21:11:09.084Z"
   },
   {
    "duration": 63,
    "start_time": "2022-02-03T21:11:26.996Z"
   },
   {
    "duration": 79,
    "start_time": "2022-02-03T21:11:35.230Z"
   },
   {
    "duration": 64,
    "start_time": "2022-02-03T21:12:09.989Z"
   },
   {
    "duration": 23,
    "start_time": "2022-02-03T21:14:10.915Z"
   },
   {
    "duration": 24,
    "start_time": "2022-02-03T21:14:25.830Z"
   },
   {
    "duration": 126,
    "start_time": "2022-02-03T21:15:05.315Z"
   },
   {
    "duration": 47,
    "start_time": "2022-02-03T21:25:34.379Z"
   },
   {
    "duration": 1089,
    "start_time": "2022-02-03T21:25:44.067Z"
   },
   {
    "duration": 41,
    "start_time": "2022-02-03T21:25:45.159Z"
   },
   {
    "duration": 3,
    "start_time": "2022-02-03T21:25:45.203Z"
   },
   {
    "duration": 10,
    "start_time": "2022-02-03T21:25:45.208Z"
   },
   {
    "duration": 8,
    "start_time": "2022-02-03T21:25:45.220Z"
   },
   {
    "duration": 31,
    "start_time": "2022-02-03T21:25:45.229Z"
   },
   {
    "duration": 5,
    "start_time": "2022-02-03T21:25:45.262Z"
   },
   {
    "duration": 9,
    "start_time": "2022-02-03T21:25:45.269Z"
   },
   {
    "duration": 7,
    "start_time": "2022-02-03T21:25:45.280Z"
   },
   {
    "duration": 71,
    "start_time": "2022-02-03T21:25:45.289Z"
   },
   {
    "duration": 43,
    "start_time": "2022-02-03T21:25:45.362Z"
   },
   {
    "duration": 246,
    "start_time": "2022-02-03T21:25:45.407Z"
   },
   {
    "duration": 157,
    "start_time": "2022-02-03T21:25:45.654Z"
   },
   {
    "duration": 6,
    "start_time": "2022-02-03T21:25:45.813Z"
   },
   {
    "duration": 9,
    "start_time": "2022-02-03T21:25:45.821Z"
   },
   {
    "duration": 62,
    "start_time": "2022-02-03T21:25:45.832Z"
   },
   {
    "duration": 93,
    "start_time": "2022-02-03T21:25:45.896Z"
   },
   {
    "duration": 25,
    "start_time": "2022-02-03T21:25:45.991Z"
   },
   {
    "duration": 192,
    "start_time": "2022-02-03T21:31:07.819Z"
   },
   {
    "duration": 194,
    "start_time": "2022-02-03T21:33:19.099Z"
   },
   {
    "duration": 283,
    "start_time": "2022-02-03T21:43:31.330Z"
   },
   {
    "duration": 38,
    "start_time": "2022-02-03T21:44:19.576Z"
   },
   {
    "duration": 1114,
    "start_time": "2022-02-03T21:44:29.141Z"
   },
   {
    "duration": 41,
    "start_time": "2022-02-03T21:44:30.257Z"
   },
   {
    "duration": 3,
    "start_time": "2022-02-03T21:44:30.301Z"
   },
   {
    "duration": 15,
    "start_time": "2022-02-03T21:44:30.306Z"
   },
   {
    "duration": 16,
    "start_time": "2022-02-03T21:44:30.323Z"
   },
   {
    "duration": 19,
    "start_time": "2022-02-03T21:44:30.341Z"
   },
   {
    "duration": 4,
    "start_time": "2022-02-03T21:44:30.361Z"
   },
   {
    "duration": 15,
    "start_time": "2022-02-03T21:44:30.367Z"
   },
   {
    "duration": 13,
    "start_time": "2022-02-03T21:44:30.385Z"
   },
   {
    "duration": 68,
    "start_time": "2022-02-03T21:44:30.400Z"
   },
   {
    "duration": 42,
    "start_time": "2022-02-03T21:44:30.470Z"
   },
   {
    "duration": 234,
    "start_time": "2022-02-03T21:44:30.514Z"
   },
   {
    "duration": 158,
    "start_time": "2022-02-03T21:44:30.750Z"
   },
   {
    "duration": 4,
    "start_time": "2022-02-03T21:44:30.910Z"
   },
   {
    "duration": 20,
    "start_time": "2022-02-03T21:44:30.915Z"
   },
   {
    "duration": 2416,
    "start_time": "2022-02-03T21:44:30.937Z"
   },
   {
    "duration": 42,
    "start_time": "2022-02-03T21:44:33.359Z"
   },
   {
    "duration": 98,
    "start_time": "2022-02-03T21:44:33.404Z"
   },
   {
    "duration": 24,
    "start_time": "2022-02-03T21:44:33.505Z"
   },
   {
    "duration": 5,
    "start_time": "2022-02-03T21:45:06.111Z"
   },
   {
    "duration": 2460,
    "start_time": "2022-02-03T21:51:16.401Z"
   },
   {
    "duration": 6,
    "start_time": "2022-02-03T21:52:11.541Z"
   },
   {
    "duration": 5,
    "start_time": "2022-02-03T21:52:56.164Z"
   },
   {
    "duration": 1100,
    "start_time": "2022-02-03T21:53:07.054Z"
   },
   {
    "duration": 40,
    "start_time": "2022-02-03T21:53:08.156Z"
   },
   {
    "duration": 4,
    "start_time": "2022-02-03T21:53:08.197Z"
   },
   {
    "duration": 11,
    "start_time": "2022-02-03T21:53:08.203Z"
   },
   {
    "duration": 7,
    "start_time": "2022-02-03T21:53:08.216Z"
   },
   {
    "duration": 4,
    "start_time": "2022-02-03T21:53:08.225Z"
   },
   {
    "duration": 29,
    "start_time": "2022-02-03T21:53:08.231Z"
   },
   {
    "duration": 7,
    "start_time": "2022-02-03T21:53:08.262Z"
   },
   {
    "duration": 8,
    "start_time": "2022-02-03T21:53:08.271Z"
   },
   {
    "duration": 46,
    "start_time": "2022-02-03T21:53:08.281Z"
   },
   {
    "duration": 71,
    "start_time": "2022-02-03T21:53:08.329Z"
   },
   {
    "duration": 235,
    "start_time": "2022-02-03T21:53:08.402Z"
   },
   {
    "duration": 155,
    "start_time": "2022-02-03T21:53:08.639Z"
   },
   {
    "duration": 4,
    "start_time": "2022-02-03T21:53:08.796Z"
   },
   {
    "duration": 11,
    "start_time": "2022-02-03T21:53:08.802Z"
   },
   {
    "duration": 2466,
    "start_time": "2022-02-03T21:53:08.815Z"
   },
   {
    "duration": 7,
    "start_time": "2022-02-03T21:53:11.283Z"
   },
   {
    "duration": 44,
    "start_time": "2022-02-03T21:53:11.292Z"
   },
   {
    "duration": 82,
    "start_time": "2022-02-03T21:53:11.358Z"
   },
   {
    "duration": 38,
    "start_time": "2022-02-03T21:53:11.442Z"
   },
   {
    "duration": 57,
    "start_time": "2022-02-03T21:55:53.325Z"
   },
   {
    "duration": 64,
    "start_time": "2022-02-03T21:56:06.492Z"
   },
   {
    "duration": 78,
    "start_time": "2022-02-03T21:59:25.120Z"
   },
   {
    "duration": 482,
    "start_time": "2022-02-03T22:02:00.234Z"
   },
   {
    "duration": 58,
    "start_time": "2022-02-03T22:02:16.328Z"
   },
   {
    "duration": 59,
    "start_time": "2022-02-03T22:04:38.610Z"
   },
   {
    "duration": 116,
    "start_time": "2022-02-03T22:07:10.803Z"
   },
   {
    "duration": 159,
    "start_time": "2022-02-03T22:07:50.520Z"
   },
   {
    "duration": 89,
    "start_time": "2022-02-03T22:07:57.061Z"
   },
   {
    "duration": 96,
    "start_time": "2022-02-03T22:08:21.180Z"
   },
   {
    "duration": 71,
    "start_time": "2022-02-03T22:08:38.386Z"
   },
   {
    "duration": 56,
    "start_time": "2022-02-03T22:10:19.721Z"
   },
   {
    "duration": 53,
    "start_time": "2022-02-03T22:10:26.715Z"
   },
   {
    "duration": 53,
    "start_time": "2022-02-03T22:10:38.492Z"
   },
   {
    "duration": 56,
    "start_time": "2022-02-03T22:10:43.020Z"
   },
   {
    "duration": 58,
    "start_time": "2022-02-03T22:10:46.980Z"
   },
   {
    "duration": 63,
    "start_time": "2022-02-03T22:10:50.611Z"
   },
   {
    "duration": 63,
    "start_time": "2022-02-03T22:10:54.102Z"
   },
   {
    "duration": 65,
    "start_time": "2022-02-03T22:10:58.468Z"
   },
   {
    "duration": 67,
    "start_time": "2022-02-03T22:11:04.963Z"
   },
   {
    "duration": 76,
    "start_time": "2022-02-03T22:11:09.940Z"
   },
   {
    "duration": 73,
    "start_time": "2022-02-03T22:11:14.414Z"
   },
   {
    "duration": 53,
    "start_time": "2022-02-03T22:11:27.707Z"
   },
   {
    "duration": 118,
    "start_time": "2022-02-03T22:11:34.289Z"
   },
   {
    "duration": 452,
    "start_time": "2022-02-03T22:11:39.017Z"
   },
   {
    "duration": 54,
    "start_time": "2022-02-03T22:11:44.698Z"
   },
   {
    "duration": 58,
    "start_time": "2022-02-03T22:11:49.799Z"
   },
   {
    "duration": 56,
    "start_time": "2022-02-03T22:11:53.818Z"
   },
   {
    "duration": 27,
    "start_time": "2022-02-03T22:12:34.786Z"
   },
   {
    "duration": 30,
    "start_time": "2022-02-03T22:12:40.077Z"
   },
   {
    "duration": 34,
    "start_time": "2022-02-03T22:12:44.049Z"
   },
   {
    "duration": 36,
    "start_time": "2022-02-03T22:12:48.712Z"
   },
   {
    "duration": 38,
    "start_time": "2022-02-03T22:12:52.281Z"
   },
   {
    "duration": 34,
    "start_time": "2022-02-03T22:12:57.853Z"
   },
   {
    "duration": 54,
    "start_time": "2022-02-03T22:13:07.331Z"
   },
   {
    "duration": 23,
    "start_time": "2022-02-03T22:13:37.680Z"
   },
   {
    "duration": 35,
    "start_time": "2022-02-03T22:14:58.169Z"
   },
   {
    "duration": 78,
    "start_time": "2022-02-03T22:15:22.466Z"
   },
   {
    "duration": 4,
    "start_time": "2022-02-03T22:17:28.993Z"
   },
   {
    "duration": 8,
    "start_time": "2022-02-03T22:18:55.110Z"
   },
   {
    "duration": 273,
    "start_time": "2022-02-03T22:19:23.279Z"
   },
   {
    "duration": 10,
    "start_time": "2022-02-03T22:19:49.629Z"
   },
   {
    "duration": 1054,
    "start_time": "2022-02-03T22:21:15.478Z"
   },
   {
    "duration": 38,
    "start_time": "2022-02-03T22:21:16.533Z"
   },
   {
    "duration": 4,
    "start_time": "2022-02-03T22:21:16.574Z"
   },
   {
    "duration": 10,
    "start_time": "2022-02-03T22:21:16.580Z"
   },
   {
    "duration": 7,
    "start_time": "2022-02-03T22:21:16.592Z"
   },
   {
    "duration": 5,
    "start_time": "2022-02-03T22:21:16.601Z"
   },
   {
    "duration": 5,
    "start_time": "2022-02-03T22:21:16.608Z"
   },
   {
    "duration": 46,
    "start_time": "2022-02-03T22:21:16.614Z"
   },
   {
    "duration": 7,
    "start_time": "2022-02-03T22:21:16.663Z"
   },
   {
    "duration": 47,
    "start_time": "2022-02-03T22:21:16.672Z"
   },
   {
    "duration": 77,
    "start_time": "2022-02-03T22:21:16.721Z"
   },
   {
    "duration": 206,
    "start_time": "2022-02-03T22:21:16.800Z"
   },
   {
    "duration": 143,
    "start_time": "2022-02-03T22:21:17.008Z"
   },
   {
    "duration": 8,
    "start_time": "2022-02-03T22:21:17.152Z"
   },
   {
    "duration": 7,
    "start_time": "2022-02-03T22:21:17.162Z"
   },
   {
    "duration": 2245,
    "start_time": "2022-02-03T22:21:17.171Z"
   },
   {
    "duration": 4,
    "start_time": "2022-02-03T22:21:19.418Z"
   },
   {
    "duration": 52,
    "start_time": "2022-02-03T22:21:19.423Z"
   },
   {
    "duration": 84,
    "start_time": "2022-02-03T22:21:19.477Z"
   },
   {
    "duration": 23,
    "start_time": "2022-02-03T22:21:19.563Z"
   },
   {
    "duration": 54,
    "start_time": "2022-02-03T22:21:19.588Z"
   },
   {
    "duration": 82,
    "start_time": "2022-02-03T22:21:19.643Z"
   },
   {
    "duration": 52,
    "start_time": "2022-02-03T22:21:19.727Z"
   },
   {
    "duration": 9,
    "start_time": "2022-02-03T22:21:19.780Z"
   },
   {
    "duration": 272,
    "start_time": "2022-02-03T22:23:16.535Z"
   },
   {
    "duration": 214,
    "start_time": "2022-02-03T22:24:17.301Z"
   },
   {
    "duration": 1022,
    "start_time": "2022-02-03T22:24:35.000Z"
   },
   {
    "duration": 39,
    "start_time": "2022-02-03T22:24:36.024Z"
   },
   {
    "duration": 3,
    "start_time": "2022-02-03T22:24:36.065Z"
   },
   {
    "duration": 19,
    "start_time": "2022-02-03T22:24:36.070Z"
   },
   {
    "duration": 9,
    "start_time": "2022-02-03T22:24:36.091Z"
   },
   {
    "duration": 5,
    "start_time": "2022-02-03T22:24:36.101Z"
   },
   {
    "duration": 5,
    "start_time": "2022-02-03T22:24:36.107Z"
   },
   {
    "duration": 13,
    "start_time": "2022-02-03T22:24:36.114Z"
   },
   {
    "duration": 7,
    "start_time": "2022-02-03T22:24:36.129Z"
   },
   {
    "duration": 56,
    "start_time": "2022-02-03T22:24:36.137Z"
   },
   {
    "duration": 40,
    "start_time": "2022-02-03T22:24:36.195Z"
   },
   {
    "duration": 224,
    "start_time": "2022-02-03T22:24:36.237Z"
   },
   {
    "duration": 146,
    "start_time": "2022-02-03T22:24:36.462Z"
   },
   {
    "duration": 4,
    "start_time": "2022-02-03T22:24:36.610Z"
   },
   {
    "duration": 5,
    "start_time": "2022-02-03T22:24:36.616Z"
   },
   {
    "duration": 2288,
    "start_time": "2022-02-03T22:24:36.623Z"
   },
   {
    "duration": 5,
    "start_time": "2022-02-03T22:24:38.913Z"
   },
   {
    "duration": 55,
    "start_time": "2022-02-03T22:24:38.919Z"
   },
   {
    "duration": 87,
    "start_time": "2022-02-03T22:24:38.976Z"
   },
   {
    "duration": 22,
    "start_time": "2022-02-03T22:24:39.065Z"
   },
   {
    "duration": 71,
    "start_time": "2022-02-03T22:24:39.089Z"
   },
   {
    "duration": 65,
    "start_time": "2022-02-03T22:24:39.162Z"
   },
   {
    "duration": 51,
    "start_time": "2022-02-03T22:24:39.230Z"
   },
   {
    "duration": 284,
    "start_time": "2022-02-03T22:24:39.283Z"
   },
   {
    "duration": 181,
    "start_time": "2022-02-03T22:25:56.374Z"
   },
   {
    "duration": 265,
    "start_time": "2022-02-03T22:26:17.119Z"
   },
   {
    "duration": 186,
    "start_time": "2022-02-03T22:26:40.542Z"
   },
   {
    "duration": 68,
    "start_time": "2022-02-03T22:26:59.230Z"
   },
   {
    "duration": 10,
    "start_time": "2022-02-03T22:27:03.199Z"
   },
   {
    "duration": 11,
    "start_time": "2022-02-03T22:28:34.383Z"
   },
   {
    "duration": 9,
    "start_time": "2022-02-03T22:28:38.444Z"
   },
   {
    "duration": 10,
    "start_time": "2022-02-03T22:28:42.783Z"
   },
   {
    "duration": 10,
    "start_time": "2022-02-03T22:28:46.448Z"
   },
   {
    "duration": 39,
    "start_time": "2022-02-03T22:28:53.206Z"
   },
   {
    "duration": 42,
    "start_time": "2022-02-03T22:28:59.215Z"
   },
   {
    "duration": 44,
    "start_time": "2022-02-03T22:29:10.957Z"
   },
   {
    "duration": 47,
    "start_time": "2022-02-03T22:29:15.209Z"
   },
   {
    "duration": 51,
    "start_time": "2022-02-03T22:29:20.164Z"
   },
   {
    "duration": 55,
    "start_time": "2022-02-03T22:29:23.872Z"
   },
   {
    "duration": 56,
    "start_time": "2022-02-03T22:29:28.557Z"
   },
   {
    "duration": 56,
    "start_time": "2022-02-03T22:29:32.060Z"
   },
   {
    "duration": 10,
    "start_time": "2022-02-03T22:29:39.441Z"
   },
   {
    "duration": 10,
    "start_time": "2022-02-03T22:29:43.845Z"
   },
   {
    "duration": 14,
    "start_time": "2022-02-03T22:31:11.886Z"
   },
   {
    "duration": 10,
    "start_time": "2022-02-03T22:31:17.244Z"
   },
   {
    "duration": 10,
    "start_time": "2022-02-03T22:31:22.143Z"
   },
   {
    "duration": 10,
    "start_time": "2022-02-03T22:31:26.463Z"
   },
   {
    "duration": 1049,
    "start_time": "2022-02-03T22:33:37.195Z"
   },
   {
    "duration": 39,
    "start_time": "2022-02-03T22:33:38.246Z"
   },
   {
    "duration": 4,
    "start_time": "2022-02-03T22:33:38.286Z"
   },
   {
    "duration": 9,
    "start_time": "2022-02-03T22:33:38.291Z"
   },
   {
    "duration": 6,
    "start_time": "2022-02-03T22:33:38.302Z"
   },
   {
    "duration": 6,
    "start_time": "2022-02-03T22:33:38.310Z"
   },
   {
    "duration": 4,
    "start_time": "2022-02-03T22:33:38.318Z"
   },
   {
    "duration": 14,
    "start_time": "2022-02-03T22:33:38.325Z"
   },
   {
    "duration": 6,
    "start_time": "2022-02-03T22:33:38.360Z"
   },
   {
    "duration": 45,
    "start_time": "2022-02-03T22:33:38.367Z"
   },
   {
    "duration": 62,
    "start_time": "2022-02-03T22:33:38.414Z"
   },
   {
    "duration": 223,
    "start_time": "2022-02-03T22:33:38.477Z"
   },
   {
    "duration": 148,
    "start_time": "2022-02-03T22:33:38.701Z"
   },
   {
    "duration": 5,
    "start_time": "2022-02-03T22:33:38.858Z"
   },
   {
    "duration": 7,
    "start_time": "2022-02-03T22:33:38.865Z"
   },
   {
    "duration": 2325,
    "start_time": "2022-02-03T22:33:38.874Z"
   },
   {
    "duration": 5,
    "start_time": "2022-02-03T22:33:41.201Z"
   },
   {
    "duration": 53,
    "start_time": "2022-02-03T22:33:41.207Z"
   },
   {
    "duration": 79,
    "start_time": "2022-02-03T22:33:41.262Z"
   },
   {
    "duration": 36,
    "start_time": "2022-02-03T22:33:41.343Z"
   },
   {
    "duration": 57,
    "start_time": "2022-02-03T22:33:41.380Z"
   },
   {
    "duration": 79,
    "start_time": "2022-02-03T22:33:41.439Z"
   },
   {
    "duration": 71,
    "start_time": "2022-02-03T22:33:41.521Z"
   },
   {
    "duration": 10,
    "start_time": "2022-02-03T22:33:41.593Z"
   },
   {
    "duration": 11,
    "start_time": "2022-02-03T22:34:20.577Z"
   },
   {
    "duration": 10,
    "start_time": "2022-02-03T22:34:24.067Z"
   },
   {
    "duration": 10,
    "start_time": "2022-02-03T22:34:27.715Z"
   },
   {
    "duration": 10,
    "start_time": "2022-02-03T22:34:32.073Z"
   },
   {
    "duration": 1040,
    "start_time": "2022-02-03T22:36:05.397Z"
   },
   {
    "duration": 39,
    "start_time": "2022-02-03T22:36:06.439Z"
   },
   {
    "duration": 4,
    "start_time": "2022-02-03T22:36:06.480Z"
   },
   {
    "duration": 9,
    "start_time": "2022-02-03T22:36:06.486Z"
   },
   {
    "duration": 7,
    "start_time": "2022-02-03T22:36:06.497Z"
   },
   {
    "duration": 6,
    "start_time": "2022-02-03T22:36:06.505Z"
   },
   {
    "duration": 7,
    "start_time": "2022-02-03T22:36:06.512Z"
   },
   {
    "duration": 41,
    "start_time": "2022-02-03T22:36:06.520Z"
   },
   {
    "duration": 6,
    "start_time": "2022-02-03T22:36:06.564Z"
   },
   {
    "duration": 47,
    "start_time": "2022-02-03T22:36:06.572Z"
   },
   {
    "duration": 61,
    "start_time": "2022-02-03T22:36:06.620Z"
   },
   {
    "duration": 221,
    "start_time": "2022-02-03T22:36:06.683Z"
   },
   {
    "duration": 146,
    "start_time": "2022-02-03T22:36:06.906Z"
   },
   {
    "duration": 5,
    "start_time": "2022-02-03T22:36:07.058Z"
   },
   {
    "duration": 7,
    "start_time": "2022-02-03T22:36:07.064Z"
   },
   {
    "duration": 2287,
    "start_time": "2022-02-03T22:36:07.072Z"
   },
   {
    "duration": 5,
    "start_time": "2022-02-03T22:36:09.361Z"
   },
   {
    "duration": 46,
    "start_time": "2022-02-03T22:36:09.368Z"
   },
   {
    "duration": 91,
    "start_time": "2022-02-03T22:36:09.416Z"
   },
   {
    "duration": 22,
    "start_time": "2022-02-03T22:36:09.509Z"
   },
   {
    "duration": 69,
    "start_time": "2022-02-03T22:36:09.532Z"
   },
   {
    "duration": 80,
    "start_time": "2022-02-03T22:36:09.603Z"
   },
   {
    "duration": 55,
    "start_time": "2022-02-03T22:36:09.685Z"
   },
   {
    "duration": 19,
    "start_time": "2022-02-03T22:36:09.741Z"
   },
   {
    "duration": 274,
    "start_time": "2022-02-03T22:36:53.255Z"
   },
   {
    "duration": 2232,
    "start_time": "2022-02-03T22:37:27.736Z"
   },
   {
    "duration": 38,
    "start_time": "2022-02-03T22:37:51.517Z"
   },
   {
    "duration": 1057,
    "start_time": "2022-02-03T22:38:00.498Z"
   },
   {
    "duration": 43,
    "start_time": "2022-02-03T22:38:01.557Z"
   },
   {
    "duration": 4,
    "start_time": "2022-02-03T22:38:01.602Z"
   },
   {
    "duration": 16,
    "start_time": "2022-02-03T22:38:01.607Z"
   },
   {
    "duration": 6,
    "start_time": "2022-02-03T22:38:01.625Z"
   },
   {
    "duration": 27,
    "start_time": "2022-02-03T22:38:01.633Z"
   },
   {
    "duration": 4,
    "start_time": "2022-02-03T22:38:01.662Z"
   },
   {
    "duration": 19,
    "start_time": "2022-02-03T22:38:01.668Z"
   },
   {
    "duration": 11,
    "start_time": "2022-02-03T22:38:01.689Z"
   },
   {
    "duration": 57,
    "start_time": "2022-02-03T22:38:01.703Z"
   },
   {
    "duration": 42,
    "start_time": "2022-02-03T22:38:01.761Z"
   },
   {
    "duration": 223,
    "start_time": "2022-02-03T22:38:01.805Z"
   },
   {
    "duration": 150,
    "start_time": "2022-02-03T22:38:02.030Z"
   },
   {
    "duration": 4,
    "start_time": "2022-02-03T22:38:02.182Z"
   },
   {
    "duration": 14,
    "start_time": "2022-02-03T22:38:02.187Z"
   },
   {
    "duration": 2281,
    "start_time": "2022-02-03T22:38:02.202Z"
   },
   {
    "duration": 4,
    "start_time": "2022-02-03T22:38:04.484Z"
   },
   {
    "duration": 40,
    "start_time": "2022-02-03T22:38:04.489Z"
   },
   {
    "duration": 97,
    "start_time": "2022-02-03T22:38:04.530Z"
   },
   {
    "duration": 30,
    "start_time": "2022-02-03T22:38:04.629Z"
   },
   {
    "duration": 58,
    "start_time": "2022-02-03T22:38:04.661Z"
   },
   {
    "duration": 84,
    "start_time": "2022-02-03T22:38:04.721Z"
   },
   {
    "duration": 66,
    "start_time": "2022-02-03T22:38:04.807Z"
   },
   {
    "duration": 11,
    "start_time": "2022-02-03T22:38:04.875Z"
   },
   {
    "duration": 1082,
    "start_time": "2022-02-03T22:38:38.446Z"
   },
   {
    "duration": 37,
    "start_time": "2022-02-03T22:38:39.531Z"
   },
   {
    "duration": 4,
    "start_time": "2022-02-03T22:38:39.570Z"
   },
   {
    "duration": 8,
    "start_time": "2022-02-03T22:38:39.576Z"
   },
   {
    "duration": 6,
    "start_time": "2022-02-03T22:38:39.585Z"
   },
   {
    "duration": 7,
    "start_time": "2022-02-03T22:38:39.592Z"
   },
   {
    "duration": 6,
    "start_time": "2022-02-03T22:38:39.601Z"
   },
   {
    "duration": 10,
    "start_time": "2022-02-03T22:38:39.608Z"
   },
   {
    "duration": 20,
    "start_time": "2022-02-03T22:38:39.621Z"
   },
   {
    "duration": 57,
    "start_time": "2022-02-03T22:38:39.642Z"
   },
   {
    "duration": 61,
    "start_time": "2022-02-03T22:38:39.701Z"
   },
   {
    "duration": 224,
    "start_time": "2022-02-03T22:38:39.765Z"
   },
   {
    "duration": 156,
    "start_time": "2022-02-03T22:38:39.991Z"
   },
   {
    "duration": 13,
    "start_time": "2022-02-03T22:38:40.148Z"
   },
   {
    "duration": 6,
    "start_time": "2022-02-03T22:38:40.162Z"
   },
   {
    "duration": 2347,
    "start_time": "2022-02-03T22:38:40.169Z"
   },
   {
    "duration": 5,
    "start_time": "2022-02-03T22:38:42.518Z"
   },
   {
    "duration": 53,
    "start_time": "2022-02-03T22:38:42.525Z"
   },
   {
    "duration": 89,
    "start_time": "2022-02-03T22:38:42.580Z"
   },
   {
    "duration": 22,
    "start_time": "2022-02-03T22:38:42.671Z"
   },
   {
    "duration": 72,
    "start_time": "2022-02-03T22:38:42.695Z"
   },
   {
    "duration": 67,
    "start_time": "2022-02-03T22:38:42.769Z"
   },
   {
    "duration": 66,
    "start_time": "2022-02-03T22:38:42.838Z"
   },
   {
    "duration": 10,
    "start_time": "2022-02-03T22:38:42.906Z"
   },
   {
    "duration": 1540,
    "start_time": "2022-02-04T07:54:32.244Z"
   },
   {
    "duration": 62,
    "start_time": "2022-02-04T07:54:33.786Z"
   },
   {
    "duration": 4,
    "start_time": "2022-02-04T07:54:33.851Z"
   },
   {
    "duration": 12,
    "start_time": "2022-02-04T07:54:33.870Z"
   },
   {
    "duration": 8,
    "start_time": "2022-02-04T07:54:33.884Z"
   },
   {
    "duration": 13,
    "start_time": "2022-02-04T07:54:33.894Z"
   },
   {
    "duration": 12,
    "start_time": "2022-02-04T07:54:33.909Z"
   },
   {
    "duration": 12,
    "start_time": "2022-02-04T07:54:33.923Z"
   },
   {
    "duration": 9,
    "start_time": "2022-02-04T07:54:33.970Z"
   },
   {
    "duration": 97,
    "start_time": "2022-02-04T07:54:33.982Z"
   },
   {
    "duration": 58,
    "start_time": "2022-02-04T07:54:34.081Z"
   },
   {
    "duration": 356,
    "start_time": "2022-02-04T07:54:34.142Z"
   },
   {
    "duration": 242,
    "start_time": "2022-02-04T07:54:34.500Z"
   },
   {
    "duration": 7,
    "start_time": "2022-02-04T07:54:34.744Z"
   },
   {
    "duration": 7,
    "start_time": "2022-02-04T07:54:34.769Z"
   },
   {
    "duration": 3661,
    "start_time": "2022-02-04T07:54:34.778Z"
   },
   {
    "duration": 7,
    "start_time": "2022-02-04T07:54:38.441Z"
   },
   {
    "duration": 76,
    "start_time": "2022-02-04T07:54:38.451Z"
   },
   {
    "duration": 144,
    "start_time": "2022-02-04T07:54:38.529Z"
   },
   {
    "duration": 33,
    "start_time": "2022-02-04T07:54:38.675Z"
   },
   {
    "duration": 114,
    "start_time": "2022-02-04T07:54:38.711Z"
   },
   {
    "duration": 117,
    "start_time": "2022-02-04T07:54:38.827Z"
   },
   {
    "duration": 97,
    "start_time": "2022-02-04T07:54:38.946Z"
   },
   {
    "duration": 27,
    "start_time": "2022-02-04T07:54:39.046Z"
   },
   {
    "duration": 180,
    "start_time": "2022-02-04T08:07:16.420Z"
   },
   {
    "duration": 96,
    "start_time": "2022-02-04T08:07:27.367Z"
   },
   {
    "duration": 108,
    "start_time": "2022-02-04T08:07:30.597Z"
   },
   {
    "duration": 118,
    "start_time": "2022-02-04T08:07:34.838Z"
   },
   {
    "duration": 127,
    "start_time": "2022-02-04T08:07:38.667Z"
   },
   {
    "duration": 139,
    "start_time": "2022-02-04T08:07:42.122Z"
   },
   {
    "duration": 147,
    "start_time": "2022-02-04T08:07:46.189Z"
   },
   {
    "duration": 156,
    "start_time": "2022-02-04T08:07:52.688Z"
   },
   {
    "duration": 164,
    "start_time": "2022-02-04T08:07:57.098Z"
   },
   {
    "duration": 181,
    "start_time": "2022-02-04T08:08:00.389Z"
   },
   {
    "duration": 1135,
    "start_time": "2022-02-04T08:08:07.163Z"
   },
   {
    "duration": 60244,
    "start_time": "2022-02-04T08:22:06.771Z"
   },
   {
    "duration": 1472,
    "start_time": "2022-02-04T08:25:41.001Z"
   },
   {
    "duration": 63,
    "start_time": "2022-02-04T08:25:42.476Z"
   },
   {
    "duration": 5,
    "start_time": "2022-02-04T08:25:42.542Z"
   },
   {
    "duration": 15,
    "start_time": "2022-02-04T08:25:42.572Z"
   },
   {
    "duration": 11,
    "start_time": "2022-02-04T08:25:42.590Z"
   },
   {
    "duration": 8,
    "start_time": "2022-02-04T08:25:42.604Z"
   },
   {
    "duration": 6,
    "start_time": "2022-02-04T08:25:42.615Z"
   },
   {
    "duration": 10,
    "start_time": "2022-02-04T08:25:42.669Z"
   },
   {
    "duration": 9,
    "start_time": "2022-02-04T08:25:42.683Z"
   },
   {
    "duration": 102,
    "start_time": "2022-02-04T08:25:42.695Z"
   },
   {
    "duration": 74,
    "start_time": "2022-02-04T08:25:42.799Z"
   },
   {
    "duration": 355,
    "start_time": "2022-02-04T08:25:42.876Z"
   },
   {
    "duration": 240,
    "start_time": "2022-02-04T08:25:43.233Z"
   },
   {
    "duration": 6,
    "start_time": "2022-02-04T08:25:43.476Z"
   },
   {
    "duration": 9,
    "start_time": "2022-02-04T08:25:43.484Z"
   },
   {
    "duration": 3781,
    "start_time": "2022-02-04T08:25:43.495Z"
   },
   {
    "duration": 7,
    "start_time": "2022-02-04T08:25:47.278Z"
   },
   {
    "duration": 84,
    "start_time": "2022-02-04T08:25:47.288Z"
   },
   {
    "duration": 136,
    "start_time": "2022-02-04T08:25:47.375Z"
   },
   {
    "duration": 33,
    "start_time": "2022-02-04T08:25:47.513Z"
   },
   {
    "duration": 104,
    "start_time": "2022-02-04T08:25:47.549Z"
   },
   {
    "duration": 59302,
    "start_time": "2022-02-04T08:25:47.670Z"
   },
   {
    "duration": 93,
    "start_time": "2022-02-04T08:26:46.976Z"
   },
   {
    "duration": 14,
    "start_time": "2022-02-04T08:26:47.072Z"
   },
   {
    "duration": 59061,
    "start_time": "2022-02-04T08:28:09.401Z"
   },
   {
    "duration": 59407,
    "start_time": "2022-02-04T08:29:55.421Z"
   },
   {
    "duration": 59093,
    "start_time": "2022-02-04T08:31:31.052Z"
   },
   {
    "duration": 42,
    "start_time": "2022-02-04T08:35:23.280Z"
   },
   {
    "duration": 424,
    "start_time": "2022-02-04T08:36:00.725Z"
   },
   {
    "duration": 345,
    "start_time": "2022-02-04T08:37:16.631Z"
   },
   {
    "duration": 91,
    "start_time": "2022-02-04T08:40:22.740Z"
   },
   {
    "duration": 1301,
    "start_time": "2022-02-04T08:40:27.863Z"
   },
   {
    "duration": 1162,
    "start_time": "2022-02-04T08:41:30.457Z"
   },
   {
    "duration": 1292,
    "start_time": "2022-02-04T08:41:41.807Z"
   },
   {
    "duration": 644,
    "start_time": "2022-02-04T08:41:46.688Z"
   },
   {
    "duration": 648,
    "start_time": "2022-02-04T08:41:52.430Z"
   },
   {
    "duration": 165,
    "start_time": "2022-02-04T08:42:29.967Z"
   },
   {
    "duration": 663,
    "start_time": "2022-02-04T08:43:29.301Z"
   },
   {
    "duration": 631,
    "start_time": "2022-02-04T08:44:32.383Z"
   },
   {
    "duration": 641,
    "start_time": "2022-02-04T08:44:36.328Z"
   },
   {
    "duration": 6795,
    "start_time": "2022-02-04T08:44:45.749Z"
   },
   {
    "duration": 15,
    "start_time": "2022-02-04T08:45:27.682Z"
   },
   {
    "duration": 1513,
    "start_time": "2022-02-04T08:46:00.228Z"
   },
   {
    "duration": 63,
    "start_time": "2022-02-04T08:46:01.744Z"
   },
   {
    "duration": 5,
    "start_time": "2022-02-04T08:46:01.810Z"
   },
   {
    "duration": 14,
    "start_time": "2022-02-04T08:46:01.818Z"
   },
   {
    "duration": 39,
    "start_time": "2022-02-04T08:46:01.834Z"
   },
   {
    "duration": 8,
    "start_time": "2022-02-04T08:46:01.875Z"
   },
   {
    "duration": 6,
    "start_time": "2022-02-04T08:46:01.886Z"
   },
   {
    "duration": 14,
    "start_time": "2022-02-04T08:46:01.895Z"
   },
   {
    "duration": 14,
    "start_time": "2022-02-04T08:46:01.913Z"
   },
   {
    "duration": 107,
    "start_time": "2022-02-04T08:46:01.929Z"
   },
   {
    "duration": 85,
    "start_time": "2022-02-04T08:46:02.039Z"
   },
   {
    "duration": 353,
    "start_time": "2022-02-04T08:46:02.127Z"
   },
   {
    "duration": 237,
    "start_time": "2022-02-04T08:46:02.483Z"
   },
   {
    "duration": 6,
    "start_time": "2022-02-04T08:46:02.722Z"
   },
   {
    "duration": 8,
    "start_time": "2022-02-04T08:46:02.731Z"
   },
   {
    "duration": 3749,
    "start_time": "2022-02-04T08:46:02.742Z"
   },
   {
    "duration": 8,
    "start_time": "2022-02-04T08:46:06.493Z"
   },
   {
    "duration": 78,
    "start_time": "2022-02-04T08:46:06.503Z"
   },
   {
    "duration": 132,
    "start_time": "2022-02-04T08:46:06.584Z"
   },
   {
    "duration": 33,
    "start_time": "2022-02-04T08:46:06.719Z"
   },
   {
    "duration": 88,
    "start_time": "2022-02-04T08:46:06.769Z"
   },
   {
    "duration": 60682,
    "start_time": "2022-02-04T08:46:06.859Z"
   },
   {
    "duration": 449,
    "start_time": "2022-02-04T08:47:07.543Z"
   },
   {
    "duration": 31,
    "start_time": "2022-02-04T08:47:07.964Z"
   },
   {
    "duration": 623,
    "start_time": "2022-02-04T08:49:34.925Z"
   },
   {
    "duration": 703,
    "start_time": "2022-02-04T08:49:44.945Z"
   },
   {
    "duration": 646,
    "start_time": "2022-02-04T08:51:21.021Z"
   },
   {
    "duration": 274,
    "start_time": "2022-02-04T08:51:36.121Z"
   },
   {
    "duration": 673,
    "start_time": "2022-02-04T08:51:43.967Z"
   },
   {
    "duration": 16,
    "start_time": "2022-02-04T08:52:14.405Z"
   },
   {
    "duration": 60378,
    "start_time": "2022-02-04T08:57:44.105Z"
   },
   {
    "duration": 15,
    "start_time": "2022-02-04T08:59:23.526Z"
   },
   {
    "duration": 632,
    "start_time": "2022-02-04T09:01:47.166Z"
   },
   {
    "duration": 640,
    "start_time": "2022-02-04T09:01:51.846Z"
   },
   {
    "duration": 15,
    "start_time": "2022-02-04T09:01:54.703Z"
   },
   {
    "duration": 46,
    "start_time": "2022-02-04T09:10:41.206Z"
   },
   {
    "duration": 122,
    "start_time": "2022-02-04T09:14:21.547Z"
   },
   {
    "duration": 124,
    "start_time": "2022-02-04T09:15:46.961Z"
   },
   {
    "duration": 275,
    "start_time": "2022-02-04T09:20:59.893Z"
   },
   {
    "duration": 269,
    "start_time": "2022-02-04T09:21:50.433Z"
   },
   {
    "duration": 1360,
    "start_time": "2022-02-04T09:22:03.615Z"
   },
   {
    "duration": 62,
    "start_time": "2022-02-04T09:22:04.978Z"
   },
   {
    "duration": 5,
    "start_time": "2022-02-04T09:22:05.043Z"
   },
   {
    "duration": 12,
    "start_time": "2022-02-04T09:22:05.070Z"
   },
   {
    "duration": 10,
    "start_time": "2022-02-04T09:22:05.085Z"
   },
   {
    "duration": 8,
    "start_time": "2022-02-04T09:22:05.097Z"
   },
   {
    "duration": 6,
    "start_time": "2022-02-04T09:22:05.107Z"
   },
   {
    "duration": 56,
    "start_time": "2022-02-04T09:22:05.115Z"
   },
   {
    "duration": 10,
    "start_time": "2022-02-04T09:22:05.176Z"
   },
   {
    "duration": 97,
    "start_time": "2022-02-04T09:22:05.189Z"
   },
   {
    "duration": 59,
    "start_time": "2022-02-04T09:22:05.288Z"
   },
   {
    "duration": 359,
    "start_time": "2022-02-04T09:22:05.349Z"
   },
   {
    "duration": 234,
    "start_time": "2022-02-04T09:22:05.710Z"
   },
   {
    "duration": 24,
    "start_time": "2022-02-04T09:22:05.946Z"
   },
   {
    "duration": 8,
    "start_time": "2022-02-04T09:22:05.972Z"
   },
   {
    "duration": 3630,
    "start_time": "2022-02-04T09:22:05.983Z"
   },
   {
    "duration": 8,
    "start_time": "2022-02-04T09:22:09.615Z"
   },
   {
    "duration": 110,
    "start_time": "2022-02-04T09:22:09.626Z"
   },
   {
    "duration": 202,
    "start_time": "2022-02-04T09:22:09.739Z"
   },
   {
    "duration": 47,
    "start_time": "2022-02-04T09:22:09.944Z"
   },
   {
    "duration": 104,
    "start_time": "2022-02-04T09:22:09.994Z"
   },
   {
    "duration": 59038,
    "start_time": "2022-02-04T09:22:10.101Z"
   },
   {
    "duration": 655,
    "start_time": "2022-02-04T09:23:09.141Z"
   },
   {
    "duration": 121,
    "start_time": "2022-02-04T09:23:09.799Z"
   },
   {
    "duration": 14,
    "start_time": "2022-02-04T09:23:09.922Z"
   },
   {
    "duration": 416,
    "start_time": "2022-02-04T09:25:09.447Z"
   },
   {
    "duration": 15,
    "start_time": "2022-02-04T09:25:23.500Z"
   },
   {
    "duration": 15,
    "start_time": "2022-02-04T09:25:27.125Z"
   },
   {
    "duration": 14,
    "start_time": "2022-02-04T09:25:30.112Z"
   },
   {
    "duration": 14,
    "start_time": "2022-02-04T09:25:35.063Z"
   },
   {
    "duration": 14,
    "start_time": "2022-02-04T09:25:38.322Z"
   },
   {
    "duration": 14,
    "start_time": "2022-02-04T09:25:49.964Z"
   },
   {
    "duration": 1540,
    "start_time": "2022-02-04T09:30:25.333Z"
   },
   {
    "duration": 62,
    "start_time": "2022-02-04T09:30:26.877Z"
   },
   {
    "duration": 5,
    "start_time": "2022-02-04T09:30:26.943Z"
   },
   {
    "duration": 12,
    "start_time": "2022-02-04T09:30:26.970Z"
   },
   {
    "duration": 10,
    "start_time": "2022-02-04T09:30:26.985Z"
   },
   {
    "duration": 7,
    "start_time": "2022-02-04T09:30:26.997Z"
   },
   {
    "duration": 6,
    "start_time": "2022-02-04T09:30:27.006Z"
   },
   {
    "duration": 12,
    "start_time": "2022-02-04T09:30:27.014Z"
   },
   {
    "duration": 9,
    "start_time": "2022-02-04T09:30:27.072Z"
   },
   {
    "duration": 96,
    "start_time": "2022-02-04T09:30:27.084Z"
   },
   {
    "duration": 60,
    "start_time": "2022-02-04T09:30:27.182Z"
   },
   {
    "duration": 356,
    "start_time": "2022-02-04T09:30:27.245Z"
   },
   {
    "duration": 235,
    "start_time": "2022-02-04T09:30:27.603Z"
   },
   {
    "duration": 6,
    "start_time": "2022-02-04T09:30:27.841Z"
   },
   {
    "duration": 21,
    "start_time": "2022-02-04T09:30:27.849Z"
   },
   {
    "duration": 3733,
    "start_time": "2022-02-04T09:30:27.872Z"
   },
   {
    "duration": 7,
    "start_time": "2022-02-04T09:30:31.608Z"
   },
   {
    "duration": 78,
    "start_time": "2022-02-04T09:30:31.617Z"
   },
   {
    "duration": 139,
    "start_time": "2022-02-04T09:30:31.697Z"
   },
   {
    "duration": 42,
    "start_time": "2022-02-04T09:30:31.838Z"
   },
   {
    "duration": 101,
    "start_time": "2022-02-04T09:30:31.883Z"
   },
   {
    "duration": 1396,
    "start_time": "2022-02-04T09:32:15.373Z"
   },
   {
    "duration": 61,
    "start_time": "2022-02-04T09:32:16.772Z"
   },
   {
    "duration": 4,
    "start_time": "2022-02-04T09:32:16.836Z"
   },
   {
    "duration": 33,
    "start_time": "2022-02-04T09:32:16.843Z"
   },
   {
    "duration": 9,
    "start_time": "2022-02-04T09:32:16.879Z"
   },
   {
    "duration": 6,
    "start_time": "2022-02-04T09:32:16.890Z"
   },
   {
    "duration": 6,
    "start_time": "2022-02-04T09:32:16.898Z"
   },
   {
    "duration": 11,
    "start_time": "2022-02-04T09:32:16.906Z"
   },
   {
    "duration": 52,
    "start_time": "2022-02-04T09:32:16.921Z"
   },
   {
    "duration": 66,
    "start_time": "2022-02-04T09:32:16.975Z"
   },
   {
    "duration": 78,
    "start_time": "2022-02-04T09:32:17.044Z"
   },
   {
    "duration": 351,
    "start_time": "2022-02-04T09:32:17.124Z"
   },
   {
    "duration": 232,
    "start_time": "2022-02-04T09:32:17.477Z"
   },
   {
    "duration": 6,
    "start_time": "2022-02-04T09:32:17.712Z"
   },
   {
    "duration": 8,
    "start_time": "2022-02-04T09:32:17.721Z"
   },
   {
    "duration": 3648,
    "start_time": "2022-02-04T09:32:17.732Z"
   },
   {
    "duration": 7,
    "start_time": "2022-02-04T09:32:21.382Z"
   },
   {
    "duration": 79,
    "start_time": "2022-02-04T09:32:21.391Z"
   },
   {
    "duration": 130,
    "start_time": "2022-02-04T09:32:21.473Z"
   },
   {
    "duration": 35,
    "start_time": "2022-02-04T09:32:21.605Z"
   },
   {
    "duration": 117,
    "start_time": "2022-02-04T09:32:21.642Z"
   },
   {
    "duration": 1414,
    "start_time": "2022-02-04T09:35:19.363Z"
   },
   {
    "duration": 63,
    "start_time": "2022-02-04T09:35:20.779Z"
   },
   {
    "duration": 5,
    "start_time": "2022-02-04T09:35:20.845Z"
   },
   {
    "duration": 13,
    "start_time": "2022-02-04T09:35:20.869Z"
   },
   {
    "duration": 8,
    "start_time": "2022-02-04T09:35:20.885Z"
   },
   {
    "duration": 9,
    "start_time": "2022-02-04T09:35:20.896Z"
   },
   {
    "duration": 6,
    "start_time": "2022-02-04T09:35:20.907Z"
   },
   {
    "duration": 8,
    "start_time": "2022-02-04T09:35:20.917Z"
   },
   {
    "duration": 9,
    "start_time": "2022-02-04T09:35:20.969Z"
   },
   {
    "duration": 93,
    "start_time": "2022-02-04T09:35:20.981Z"
   },
   {
    "duration": 58,
    "start_time": "2022-02-04T09:35:21.076Z"
   },
   {
    "duration": 355,
    "start_time": "2022-02-04T09:35:21.137Z"
   },
   {
    "duration": 228,
    "start_time": "2022-02-04T09:35:21.494Z"
   },
   {
    "duration": 6,
    "start_time": "2022-02-04T09:35:21.725Z"
   },
   {
    "duration": 7,
    "start_time": "2022-02-04T09:35:21.734Z"
   },
   {
    "duration": 3773,
    "start_time": "2022-02-04T09:35:21.743Z"
   },
   {
    "duration": 7,
    "start_time": "2022-02-04T09:35:25.519Z"
   },
   {
    "duration": 80,
    "start_time": "2022-02-04T09:35:25.528Z"
   },
   {
    "duration": 136,
    "start_time": "2022-02-04T09:35:25.610Z"
   },
   {
    "duration": 42,
    "start_time": "2022-02-04T09:35:25.748Z"
   },
   {
    "duration": 113,
    "start_time": "2022-02-04T09:35:25.792Z"
   },
   {
    "duration": 1537,
    "start_time": "2022-02-04T09:35:25.907Z"
   },
   {
    "duration": 706,
    "start_time": "2022-02-04T09:35:27.448Z"
   },
   {
    "duration": 141,
    "start_time": "2022-02-04T09:35:28.156Z"
   },
   {
    "duration": 14,
    "start_time": "2022-02-04T09:35:28.299Z"
   },
   {
    "duration": 17,
    "start_time": "2022-02-04T09:36:30.419Z"
   },
   {
    "duration": 413,
    "start_time": "2022-02-04T09:42:08.410Z"
   },
   {
    "duration": 1445,
    "start_time": "2022-02-04T09:43:32.927Z"
   },
   {
    "duration": 66,
    "start_time": "2022-02-04T09:43:34.376Z"
   },
   {
    "duration": 6,
    "start_time": "2022-02-04T09:43:34.445Z"
   },
   {
    "duration": 14,
    "start_time": "2022-02-04T09:43:34.470Z"
   },
   {
    "duration": 11,
    "start_time": "2022-02-04T09:43:34.487Z"
   },
   {
    "duration": 6,
    "start_time": "2022-02-04T09:43:34.501Z"
   },
   {
    "duration": 6,
    "start_time": "2022-02-04T09:43:34.510Z"
   },
   {
    "duration": 53,
    "start_time": "2022-02-04T09:43:34.518Z"
   },
   {
    "duration": 9,
    "start_time": "2022-02-04T09:43:34.575Z"
   },
   {
    "duration": 103,
    "start_time": "2022-02-04T09:43:34.588Z"
   },
   {
    "duration": 57,
    "start_time": "2022-02-04T09:43:34.693Z"
   },
   {
    "duration": 355,
    "start_time": "2022-02-04T09:43:34.768Z"
   },
   {
    "duration": 246,
    "start_time": "2022-02-04T09:43:35.125Z"
   },
   {
    "duration": 6,
    "start_time": "2022-02-04T09:43:35.374Z"
   },
   {
    "duration": 7,
    "start_time": "2022-02-04T09:43:35.383Z"
   },
   {
    "duration": 4265,
    "start_time": "2022-02-04T09:43:35.393Z"
   },
   {
    "duration": 12,
    "start_time": "2022-02-04T09:43:39.661Z"
   },
   {
    "duration": 62,
    "start_time": "2022-02-04T09:43:39.675Z"
   },
   {
    "duration": 151,
    "start_time": "2022-02-04T09:43:39.740Z"
   },
   {
    "duration": 36,
    "start_time": "2022-02-04T09:43:39.894Z"
   },
   {
    "duration": 126,
    "start_time": "2022-02-04T09:43:39.933Z"
   },
   {
    "duration": 1371,
    "start_time": "2022-02-04T09:43:40.061Z"
   },
   {
    "duration": 696,
    "start_time": "2022-02-04T09:43:41.434Z"
   },
   {
    "duration": 143,
    "start_time": "2022-02-04T09:43:42.133Z"
   },
   {
    "duration": 441,
    "start_time": "2022-02-04T09:43:42.278Z"
   },
   {
    "duration": 1254,
    "start_time": "2022-02-04T09:44:27.812Z"
   },
   {
    "duration": 128,
    "start_time": "2022-02-04T09:44:53.109Z"
   },
   {
    "duration": 26,
    "start_time": "2022-02-04T09:45:37.256Z"
   },
   {
    "duration": 25,
    "start_time": "2022-02-04T09:45:53.129Z"
   },
   {
    "duration": 26,
    "start_time": "2022-02-04T09:45:56.190Z"
   },
   {
    "duration": 28,
    "start_time": "2022-02-04T09:45:59.168Z"
   },
   {
    "duration": 29,
    "start_time": "2022-02-04T09:46:02.490Z"
   },
   {
    "duration": 30,
    "start_time": "2022-02-04T09:46:05.648Z"
   },
   {
    "duration": 30,
    "start_time": "2022-02-04T09:46:08.756Z"
   },
   {
    "duration": 31,
    "start_time": "2022-02-04T09:46:11.528Z"
   },
   {
    "duration": 34,
    "start_time": "2022-02-04T09:46:15.167Z"
   },
   {
    "duration": 34,
    "start_time": "2022-02-04T09:46:17.955Z"
   },
   {
    "duration": 35,
    "start_time": "2022-02-04T09:46:21.305Z"
   },
   {
    "duration": 35,
    "start_time": "2022-02-04T09:46:24.016Z"
   },
   {
    "duration": 46,
    "start_time": "2022-02-04T09:46:27.882Z"
   },
   {
    "duration": 82,
    "start_time": "2022-02-04T09:46:32.145Z"
   },
   {
    "duration": 106,
    "start_time": "2022-02-04T09:46:36.575Z"
   },
   {
    "duration": 81,
    "start_time": "2022-02-04T09:46:40.870Z"
   },
   {
    "duration": 152,
    "start_time": "2022-02-04T09:46:45.365Z"
   },
   {
    "duration": 261,
    "start_time": "2022-02-04T09:46:55.628Z"
   },
   {
    "duration": 2553,
    "start_time": "2022-02-04T09:47:25.425Z"
   },
   {
    "duration": 49,
    "start_time": "2022-02-04T09:47:34.922Z"
   },
   {
    "duration": 27,
    "start_time": "2022-02-04T09:47:38.721Z"
   },
   {
    "duration": 42,
    "start_time": "2022-02-04T09:47:56.831Z"
   },
   {
    "duration": 30,
    "start_time": "2022-02-04T09:48:30.473Z"
   },
   {
    "duration": 42,
    "start_time": "2022-02-04T10:29:41.354Z"
   },
   {
    "duration": 1523,
    "start_time": "2022-02-04T10:35:45.753Z"
   },
   {
    "duration": 60,
    "start_time": "2022-02-04T10:35:47.278Z"
   },
   {
    "duration": 4,
    "start_time": "2022-02-04T10:35:47.342Z"
   },
   {
    "duration": 29,
    "start_time": "2022-02-04T10:35:47.349Z"
   },
   {
    "duration": 15,
    "start_time": "2022-02-04T10:35:47.380Z"
   },
   {
    "duration": 8,
    "start_time": "2022-02-04T10:35:47.398Z"
   },
   {
    "duration": 6,
    "start_time": "2022-02-04T10:35:47.408Z"
   },
   {
    "duration": 54,
    "start_time": "2022-02-04T10:35:47.417Z"
   },
   {
    "duration": 11,
    "start_time": "2022-02-04T10:35:47.475Z"
   },
   {
    "duration": 117,
    "start_time": "2022-02-04T10:35:47.490Z"
   },
   {
    "duration": 70,
    "start_time": "2022-02-04T10:35:47.611Z"
   },
   {
    "duration": 342,
    "start_time": "2022-02-04T10:35:47.683Z"
   },
   {
    "duration": 246,
    "start_time": "2022-02-04T10:35:48.027Z"
   },
   {
    "duration": 7,
    "start_time": "2022-02-04T10:35:48.275Z"
   },
   {
    "duration": 16,
    "start_time": "2022-02-04T10:35:48.285Z"
   },
   {
    "duration": 3823,
    "start_time": "2022-02-04T10:35:48.304Z"
   },
   {
    "duration": 44,
    "start_time": "2022-02-04T10:35:52.129Z"
   },
   {
    "duration": 56,
    "start_time": "2022-02-04T10:35:52.176Z"
   },
   {
    "duration": 156,
    "start_time": "2022-02-04T10:35:52.234Z"
   },
   {
    "duration": 35,
    "start_time": "2022-02-04T10:35:52.394Z"
   },
   {
    "duration": 125,
    "start_time": "2022-02-04T10:35:52.432Z"
   },
   {
    "duration": 1297,
    "start_time": "2022-02-04T10:35:52.559Z"
   },
   {
    "duration": 703,
    "start_time": "2022-02-04T10:35:53.859Z"
   },
   {
    "duration": 135,
    "start_time": "2022-02-04T10:35:54.570Z"
   },
   {
    "duration": 38,
    "start_time": "2022-02-04T10:35:54.707Z"
   },
   {
    "duration": 37,
    "start_time": "2022-02-04T10:43:40.710Z"
   },
   {
    "duration": 41,
    "start_time": "2022-02-04T10:44:44.458Z"
   },
   {
    "duration": 438,
    "start_time": "2022-02-04T10:48:39.468Z"
   },
   {
    "duration": 1443,
    "start_time": "2022-02-04T10:49:12.139Z"
   },
   {
    "duration": 63,
    "start_time": "2022-02-04T10:49:13.585Z"
   },
   {
    "duration": 19,
    "start_time": "2022-02-04T10:49:13.651Z"
   },
   {
    "duration": 12,
    "start_time": "2022-02-04T10:49:13.674Z"
   },
   {
    "duration": 9,
    "start_time": "2022-02-04T10:49:13.688Z"
   },
   {
    "duration": 6,
    "start_time": "2022-02-04T10:49:13.701Z"
   },
   {
    "duration": 5,
    "start_time": "2022-02-04T10:49:13.709Z"
   },
   {
    "duration": 52,
    "start_time": "2022-02-04T10:49:13.717Z"
   },
   {
    "duration": 9,
    "start_time": "2022-02-04T10:49:13.773Z"
   },
   {
    "duration": 89,
    "start_time": "2022-02-04T10:49:13.785Z"
   },
   {
    "duration": 59,
    "start_time": "2022-02-04T10:49:13.877Z"
   },
   {
    "duration": 364,
    "start_time": "2022-02-04T10:49:13.939Z"
   },
   {
    "duration": 270,
    "start_time": "2022-02-04T10:49:14.305Z"
   },
   {
    "duration": 7,
    "start_time": "2022-02-04T10:49:14.577Z"
   },
   {
    "duration": 8,
    "start_time": "2022-02-04T10:49:14.587Z"
   },
   {
    "duration": 3850,
    "start_time": "2022-02-04T10:49:14.598Z"
   },
   {
    "duration": 19,
    "start_time": "2022-02-04T10:49:18.450Z"
   },
   {
    "duration": 58,
    "start_time": "2022-02-04T10:49:18.472Z"
   },
   {
    "duration": 152,
    "start_time": "2022-02-04T10:49:18.532Z"
   },
   {
    "duration": 34,
    "start_time": "2022-02-04T10:49:18.686Z"
   },
   {
    "duration": 117,
    "start_time": "2022-02-04T10:49:18.722Z"
   },
   {
    "duration": 1361,
    "start_time": "2022-02-04T10:49:18.842Z"
   },
   {
    "duration": 707,
    "start_time": "2022-02-04T10:49:20.206Z"
   },
   {
    "duration": 137,
    "start_time": "2022-02-04T10:49:20.916Z"
   },
   {
    "duration": 45,
    "start_time": "2022-02-04T10:49:21.056Z"
   },
   {
    "duration": 409,
    "start_time": "2022-02-04T10:49:21.103Z"
   },
   {
    "duration": 1607,
    "start_time": "2022-02-04T10:50:07.063Z"
   },
   {
    "duration": 61,
    "start_time": "2022-02-04T10:50:08.673Z"
   },
   {
    "duration": 5,
    "start_time": "2022-02-04T10:50:08.737Z"
   },
   {
    "duration": 33,
    "start_time": "2022-02-04T10:50:08.745Z"
   },
   {
    "duration": 10,
    "start_time": "2022-02-04T10:50:08.781Z"
   },
   {
    "duration": 8,
    "start_time": "2022-02-04T10:50:08.793Z"
   },
   {
    "duration": 8,
    "start_time": "2022-02-04T10:50:08.803Z"
   },
   {
    "duration": 16,
    "start_time": "2022-02-04T10:50:08.814Z"
   },
   {
    "duration": 41,
    "start_time": "2022-02-04T10:50:08.835Z"
   },
   {
    "duration": 93,
    "start_time": "2022-02-04T10:50:08.879Z"
   },
   {
    "duration": 58,
    "start_time": "2022-02-04T10:50:08.974Z"
   },
   {
    "duration": 256,
    "start_time": "2022-02-04T10:50:09.034Z"
   },
   {
    "duration": 237,
    "start_time": "2022-02-04T10:50:09.292Z"
   },
   {
    "duration": 7,
    "start_time": "2022-02-04T10:50:09.532Z"
   },
   {
    "duration": 27,
    "start_time": "2022-02-04T10:50:09.542Z"
   },
   {
    "duration": 3698,
    "start_time": "2022-02-04T10:50:09.572Z"
   },
   {
    "duration": 7,
    "start_time": "2022-02-04T10:50:13.272Z"
   },
   {
    "duration": 54,
    "start_time": "2022-02-04T10:50:13.282Z"
   },
   {
    "duration": 157,
    "start_time": "2022-02-04T10:50:13.339Z"
   },
   {
    "duration": 34,
    "start_time": "2022-02-04T10:50:13.498Z"
   },
   {
    "duration": 118,
    "start_time": "2022-02-04T10:50:13.534Z"
   },
   {
    "duration": 1281,
    "start_time": "2022-02-04T10:50:13.654Z"
   },
   {
    "duration": 708,
    "start_time": "2022-02-04T10:50:14.937Z"
   },
   {
    "duration": 146,
    "start_time": "2022-02-04T10:50:15.647Z"
   },
   {
    "duration": 39,
    "start_time": "2022-02-04T10:50:15.796Z"
   },
   {
    "duration": 306,
    "start_time": "2022-02-04T10:50:15.838Z"
   },
   {
    "duration": 266,
    "start_time": "2022-02-04T10:52:45.063Z"
   },
   {
    "duration": 494,
    "start_time": "2022-02-04T10:55:00.681Z"
   },
   {
    "duration": 315,
    "start_time": "2022-02-04T10:56:23.381Z"
   },
   {
    "duration": 1591,
    "start_time": "2022-02-04T10:56:41.375Z"
   },
   {
    "duration": 71,
    "start_time": "2022-02-04T10:56:42.970Z"
   },
   {
    "duration": 26,
    "start_time": "2022-02-04T10:56:43.045Z"
   },
   {
    "duration": 12,
    "start_time": "2022-02-04T10:56:43.074Z"
   },
   {
    "duration": 8,
    "start_time": "2022-02-04T10:56:43.089Z"
   },
   {
    "duration": 6,
    "start_time": "2022-02-04T10:56:43.100Z"
   },
   {
    "duration": 8,
    "start_time": "2022-02-04T10:56:43.108Z"
   },
   {
    "duration": 55,
    "start_time": "2022-02-04T10:56:43.120Z"
   },
   {
    "duration": 12,
    "start_time": "2022-02-04T10:56:43.178Z"
   },
   {
    "duration": 104,
    "start_time": "2022-02-04T10:56:43.193Z"
   },
   {
    "duration": 58,
    "start_time": "2022-02-04T10:56:43.299Z"
   },
   {
    "duration": 343,
    "start_time": "2022-02-04T10:56:43.369Z"
   },
   {
    "duration": 236,
    "start_time": "2022-02-04T10:56:43.714Z"
   },
   {
    "duration": 21,
    "start_time": "2022-02-04T10:56:43.953Z"
   },
   {
    "duration": 9,
    "start_time": "2022-02-04T10:56:43.978Z"
   },
   {
    "duration": 3809,
    "start_time": "2022-02-04T10:56:43.990Z"
   },
   {
    "duration": 8,
    "start_time": "2022-02-04T10:56:47.802Z"
   },
   {
    "duration": 86,
    "start_time": "2022-02-04T10:56:47.813Z"
   },
   {
    "duration": 136,
    "start_time": "2022-02-04T10:56:47.902Z"
   },
   {
    "duration": 45,
    "start_time": "2022-02-04T10:56:48.040Z"
   },
   {
    "duration": 152,
    "start_time": "2022-02-04T10:56:48.088Z"
   },
   {
    "duration": 1756,
    "start_time": "2022-02-04T10:56:48.244Z"
   },
   {
    "duration": 1070,
    "start_time": "2022-02-04T10:56:50.006Z"
   },
   {
    "duration": 136,
    "start_time": "2022-02-04T10:56:51.079Z"
   },
   {
    "duration": 54,
    "start_time": "2022-02-04T10:56:51.218Z"
   },
   {
    "duration": 286,
    "start_time": "2022-02-04T10:56:51.275Z"
   },
   {
    "duration": 13,
    "start_time": "2022-02-04T10:56:51.563Z"
   },
   {
    "duration": 1245,
    "start_time": "2022-02-05T11:54:54.789Z"
   },
   {
    "duration": 40,
    "start_time": "2022-02-05T11:55:07.771Z"
   },
   {
    "duration": 1731,
    "start_time": "2022-02-05T12:00:05.398Z"
   },
   {
    "duration": 1129,
    "start_time": "2022-02-05T12:00:13.553Z"
   },
   {
    "duration": 46,
    "start_time": "2022-02-05T12:00:14.684Z"
   },
   {
    "duration": 35,
    "start_time": "2022-02-05T12:00:14.732Z"
   },
   {
    "duration": 3,
    "start_time": "2022-02-05T12:00:14.770Z"
   },
   {
    "duration": 7,
    "start_time": "2022-02-05T12:00:14.775Z"
   },
   {
    "duration": 7,
    "start_time": "2022-02-05T12:00:14.784Z"
   },
   {
    "duration": 5,
    "start_time": "2022-02-05T12:00:14.792Z"
   },
   {
    "duration": 4,
    "start_time": "2022-02-05T12:00:14.801Z"
   },
   {
    "duration": 8,
    "start_time": "2022-02-05T12:00:14.807Z"
   },
   {
    "duration": 7,
    "start_time": "2022-02-05T12:00:14.817Z"
   },
   {
    "duration": 78,
    "start_time": "2022-02-05T12:00:14.826Z"
   },
   {
    "duration": 43,
    "start_time": "2022-02-05T12:00:14.906Z"
   },
   {
    "duration": 151,
    "start_time": "2022-02-05T12:00:14.950Z"
   },
   {
    "duration": 137,
    "start_time": "2022-02-05T12:00:15.103Z"
   },
   {
    "duration": 5,
    "start_time": "2022-02-05T12:00:15.242Z"
   },
   {
    "duration": 7,
    "start_time": "2022-02-05T12:00:15.248Z"
   },
   {
    "duration": 2287,
    "start_time": "2022-02-05T12:00:15.271Z"
   },
   {
    "duration": 11,
    "start_time": "2022-02-05T12:00:17.560Z"
   },
   {
    "duration": 39,
    "start_time": "2022-02-05T12:00:17.573Z"
   },
   {
    "duration": 92,
    "start_time": "2022-02-05T12:00:17.614Z"
   },
   {
    "duration": 24,
    "start_time": "2022-02-05T12:00:17.708Z"
   },
   {
    "duration": 76,
    "start_time": "2022-02-05T12:00:17.733Z"
   },
   {
    "duration": 841,
    "start_time": "2022-02-05T12:00:17.812Z"
   },
   {
    "duration": 443,
    "start_time": "2022-02-05T12:00:18.654Z"
   },
   {
    "duration": 89,
    "start_time": "2022-02-05T12:00:19.098Z"
   },
   {
    "duration": 23,
    "start_time": "2022-02-05T12:00:19.189Z"
   },
   {
    "duration": 162,
    "start_time": "2022-02-05T12:00:19.214Z"
   },
   {
    "duration": 5,
    "start_time": "2022-02-05T12:00:19.378Z"
   },
   {
    "duration": 1102,
    "start_time": "2022-02-05T12:04:02.577Z"
   },
   {
    "duration": 40,
    "start_time": "2022-02-05T12:04:03.681Z"
   },
   {
    "duration": 37,
    "start_time": "2022-02-05T12:04:03.723Z"
   },
   {
    "duration": 3,
    "start_time": "2022-02-05T12:04:03.762Z"
   },
   {
    "duration": 22,
    "start_time": "2022-02-05T12:04:03.766Z"
   },
   {
    "duration": 26,
    "start_time": "2022-02-05T12:04:03.789Z"
   },
   {
    "duration": 16,
    "start_time": "2022-02-05T12:04:03.817Z"
   },
   {
    "duration": 17,
    "start_time": "2022-02-05T12:04:03.835Z"
   },
   {
    "duration": 14,
    "start_time": "2022-02-05T12:04:03.853Z"
   },
   {
    "duration": 21,
    "start_time": "2022-02-05T12:04:03.869Z"
   },
   {
    "duration": 58,
    "start_time": "2022-02-05T12:04:03.891Z"
   },
   {
    "duration": 40,
    "start_time": "2022-02-05T12:04:03.951Z"
   },
   {
    "duration": 125,
    "start_time": "2022-02-05T12:04:03.993Z"
   },
   {
    "duration": 129,
    "start_time": "2022-02-05T12:04:04.120Z"
   },
   {
    "duration": 4,
    "start_time": "2022-02-05T12:04:04.250Z"
   },
   {
    "duration": 15,
    "start_time": "2022-02-05T12:04:04.256Z"
   },
   {
    "duration": 18818,
    "start_time": "2022-02-05T12:04:04.273Z"
   },
   {
    "duration": 5,
    "start_time": "2022-02-05T12:04:23.093Z"
   },
   {
    "duration": 40,
    "start_time": "2022-02-05T12:04:23.100Z"
   },
   {
    "duration": 96,
    "start_time": "2022-02-05T12:04:23.141Z"
   },
   {
    "duration": 33,
    "start_time": "2022-02-05T12:04:23.239Z"
   },
   {
    "duration": 58,
    "start_time": "2022-02-05T12:04:23.274Z"
   },
   {
    "duration": 765,
    "start_time": "2022-02-05T12:04:23.335Z"
   },
   {
    "duration": 427,
    "start_time": "2022-02-05T12:04:24.101Z"
   },
   {
    "duration": 86,
    "start_time": "2022-02-05T12:04:24.529Z"
   },
   {
    "duration": 22,
    "start_time": "2022-02-05T12:04:24.617Z"
   },
   {
    "duration": 189,
    "start_time": "2022-02-05T12:04:24.640Z"
   },
   {
    "duration": 11,
    "start_time": "2022-02-05T12:04:24.831Z"
   },
   {
    "duration": 101,
    "start_time": "2022-02-05T12:08:15.872Z"
   },
   {
    "duration": 1371,
    "start_time": "2022-02-05T12:08:43.759Z"
   },
   {
    "duration": 786,
    "start_time": "2022-02-05T12:09:18.431Z"
   },
   {
    "duration": 120,
    "start_time": "2022-02-05T12:11:24.604Z"
   },
   {
    "duration": 19,
    "start_time": "2022-02-05T12:14:13.980Z"
   },
   {
    "duration": 21,
    "start_time": "2022-02-05T12:14:17.638Z"
   },
   {
    "duration": 21,
    "start_time": "2022-02-05T12:14:32.685Z"
   },
   {
    "duration": 7,
    "start_time": "2022-02-05T12:16:02.571Z"
   },
   {
    "duration": 480,
    "start_time": "2022-02-05T12:29:31.585Z"
   },
   {
    "duration": 1136,
    "start_time": "2022-02-05T12:29:49.540Z"
   },
   {
    "duration": 40,
    "start_time": "2022-02-05T12:29:50.678Z"
   },
   {
    "duration": 34,
    "start_time": "2022-02-05T12:29:50.720Z"
   },
   {
    "duration": 3,
    "start_time": "2022-02-05T12:29:50.756Z"
   },
   {
    "duration": 7,
    "start_time": "2022-02-05T12:29:50.772Z"
   },
   {
    "duration": 7,
    "start_time": "2022-02-05T12:29:50.780Z"
   },
   {
    "duration": 4,
    "start_time": "2022-02-05T12:29:50.788Z"
   },
   {
    "duration": 6,
    "start_time": "2022-02-05T12:29:50.793Z"
   },
   {
    "duration": 7,
    "start_time": "2022-02-05T12:29:50.801Z"
   },
   {
    "duration": 8,
    "start_time": "2022-02-05T12:29:50.810Z"
   },
   {
    "duration": 72,
    "start_time": "2022-02-05T12:29:50.820Z"
   },
   {
    "duration": 40,
    "start_time": "2022-02-05T12:29:50.894Z"
   },
   {
    "duration": 165,
    "start_time": "2022-02-05T12:29:50.936Z"
   },
   {
    "duration": 134,
    "start_time": "2022-02-05T12:29:51.102Z"
   },
   {
    "duration": 4,
    "start_time": "2022-02-05T12:29:51.238Z"
   },
   {
    "duration": 11,
    "start_time": "2022-02-05T12:29:51.244Z"
   },
   {
    "duration": 19058,
    "start_time": "2022-02-05T12:29:51.257Z"
   },
   {
    "duration": 5,
    "start_time": "2022-02-05T12:30:10.316Z"
   },
   {
    "duration": 54,
    "start_time": "2022-02-05T12:30:10.322Z"
   },
   {
    "duration": 77,
    "start_time": "2022-02-05T12:30:10.378Z"
   },
   {
    "duration": 31,
    "start_time": "2022-02-05T12:30:10.457Z"
   },
   {
    "duration": 113,
    "start_time": "2022-02-05T12:30:10.489Z"
   },
   {
    "duration": 1458,
    "start_time": "2022-02-05T12:30:10.604Z"
   },
   {
    "duration": 687,
    "start_time": "2022-02-05T12:30:12.064Z"
   },
   {
    "duration": 468,
    "start_time": "2022-02-05T12:30:12.752Z"
   },
   {
    "duration": -17,
    "start_time": "2022-02-05T12:30:13.239Z"
   },
   {
    "duration": -18,
    "start_time": "2022-02-05T12:30:13.241Z"
   },
   {
    "duration": -20,
    "start_time": "2022-02-05T12:30:13.244Z"
   },
   {
    "duration": 1253,
    "start_time": "2022-02-05T12:32:54.330Z"
   },
   {
    "duration": 41,
    "start_time": "2022-02-05T12:32:55.585Z"
   },
   {
    "duration": 42,
    "start_time": "2022-02-05T12:32:55.629Z"
   },
   {
    "duration": 4,
    "start_time": "2022-02-05T12:32:55.673Z"
   },
   {
    "duration": 18,
    "start_time": "2022-02-05T12:32:55.679Z"
   },
   {
    "duration": 19,
    "start_time": "2022-02-05T12:32:55.698Z"
   },
   {
    "duration": 6,
    "start_time": "2022-02-05T12:32:55.719Z"
   },
   {
    "duration": 17,
    "start_time": "2022-02-05T12:32:55.727Z"
   },
   {
    "duration": 16,
    "start_time": "2022-02-05T12:32:55.746Z"
   },
   {
    "duration": 27,
    "start_time": "2022-02-05T12:32:55.764Z"
   },
   {
    "duration": 54,
    "start_time": "2022-02-05T12:32:55.793Z"
   },
   {
    "duration": 42,
    "start_time": "2022-02-05T12:32:55.848Z"
   },
   {
    "duration": 126,
    "start_time": "2022-02-05T12:32:55.892Z"
   },
   {
    "duration": 141,
    "start_time": "2022-02-05T12:32:56.020Z"
   },
   {
    "duration": 11,
    "start_time": "2022-02-05T12:32:56.162Z"
   },
   {
    "duration": 6,
    "start_time": "2022-02-05T12:32:56.174Z"
   },
   {
    "duration": 18454,
    "start_time": "2022-02-05T12:32:56.182Z"
   },
   {
    "duration": 4,
    "start_time": "2022-02-05T12:33:14.638Z"
   },
   {
    "duration": 54,
    "start_time": "2022-02-05T12:33:14.644Z"
   },
   {
    "duration": 82,
    "start_time": "2022-02-05T12:33:14.700Z"
   },
   {
    "duration": 22,
    "start_time": "2022-02-05T12:33:14.784Z"
   },
   {
    "duration": 122,
    "start_time": "2022-02-05T12:33:14.808Z"
   },
   {
    "duration": 1360,
    "start_time": "2022-02-05T12:33:14.932Z"
   },
   {
    "duration": 710,
    "start_time": "2022-02-05T12:33:16.294Z"
   },
   {
    "duration": 1447,
    "start_time": "2022-02-05T12:36:17.335Z"
   },
   {
    "duration": 40,
    "start_time": "2022-02-05T12:36:18.784Z"
   },
   {
    "duration": 34,
    "start_time": "2022-02-05T12:36:18.826Z"
   },
   {
    "duration": 3,
    "start_time": "2022-02-05T12:36:18.862Z"
   },
   {
    "duration": 9,
    "start_time": "2022-02-05T12:36:18.871Z"
   },
   {
    "duration": 7,
    "start_time": "2022-02-05T12:36:18.882Z"
   },
   {
    "duration": 5,
    "start_time": "2022-02-05T12:36:18.891Z"
   },
   {
    "duration": 4,
    "start_time": "2022-02-05T12:36:18.897Z"
   },
   {
    "duration": 6,
    "start_time": "2022-02-05T12:36:18.905Z"
   },
   {
    "duration": 9,
    "start_time": "2022-02-05T12:36:18.913Z"
   },
   {
    "duration": 81,
    "start_time": "2022-02-05T12:36:18.923Z"
   },
   {
    "duration": 40,
    "start_time": "2022-02-05T12:36:19.006Z"
   },
   {
    "duration": 157,
    "start_time": "2022-02-05T12:36:19.048Z"
   },
   {
    "duration": 137,
    "start_time": "2022-02-05T12:36:19.207Z"
   },
   {
    "duration": 5,
    "start_time": "2022-02-05T12:36:19.346Z"
   },
   {
    "duration": 20,
    "start_time": "2022-02-05T12:36:19.352Z"
   },
   {
    "duration": 18989,
    "start_time": "2022-02-05T12:36:19.373Z"
   },
   {
    "duration": 9,
    "start_time": "2022-02-05T12:36:38.364Z"
   },
   {
    "duration": 39,
    "start_time": "2022-02-05T12:36:38.375Z"
   },
   {
    "duration": 86,
    "start_time": "2022-02-05T12:36:38.416Z"
   },
   {
    "duration": 23,
    "start_time": "2022-02-05T12:36:38.503Z"
   },
   {
    "duration": 117,
    "start_time": "2022-02-05T12:36:38.527Z"
   },
   {
    "duration": 1353,
    "start_time": "2022-02-05T12:36:38.646Z"
   },
   {
    "duration": 693,
    "start_time": "2022-02-05T12:36:40.001Z"
   },
   {
    "duration": 7850,
    "start_time": "2022-02-05T12:36:40.696Z"
   },
   {
    "duration": 27,
    "start_time": "2022-02-05T12:36:48.548Z"
   },
   {
    "duration": 549,
    "start_time": "2022-02-05T12:36:48.577Z"
   },
   {
    "duration": -4,
    "start_time": "2022-02-05T12:36:49.132Z"
   },
   {
    "duration": 23634,
    "start_time": "2022-02-05T12:37:19.149Z"
   },
   {
    "duration": 1136,
    "start_time": "2022-02-05T12:37:59.959Z"
   },
   {
    "duration": 42,
    "start_time": "2022-02-05T12:38:01.096Z"
   },
   {
    "duration": 34,
    "start_time": "2022-02-05T12:38:01.140Z"
   },
   {
    "duration": 3,
    "start_time": "2022-02-05T12:38:01.177Z"
   },
   {
    "duration": 20,
    "start_time": "2022-02-05T12:38:01.181Z"
   },
   {
    "duration": 26,
    "start_time": "2022-02-05T12:38:01.202Z"
   },
   {
    "duration": 10,
    "start_time": "2022-02-05T12:38:01.230Z"
   },
   {
    "duration": 17,
    "start_time": "2022-02-05T12:38:01.241Z"
   },
   {
    "duration": 16,
    "start_time": "2022-02-05T12:38:01.260Z"
   },
   {
    "duration": 17,
    "start_time": "2022-02-05T12:38:01.278Z"
   },
   {
    "duration": 42,
    "start_time": "2022-02-05T12:38:01.297Z"
   },
   {
    "duration": 48,
    "start_time": "2022-02-05T12:38:01.341Z"
   },
   {
    "duration": 143,
    "start_time": "2022-02-05T12:38:01.391Z"
   },
   {
    "duration": 125,
    "start_time": "2022-02-05T12:38:01.535Z"
   },
   {
    "duration": 10,
    "start_time": "2022-02-05T12:38:01.661Z"
   },
   {
    "duration": 4,
    "start_time": "2022-02-05T12:38:01.673Z"
   },
   {
    "duration": 18893,
    "start_time": "2022-02-05T12:38:01.678Z"
   },
   {
    "duration": 5,
    "start_time": "2022-02-05T12:38:20.573Z"
   },
   {
    "duration": 91,
    "start_time": "2022-02-05T12:38:20.580Z"
   },
   {
    "duration": 84,
    "start_time": "2022-02-05T12:38:20.673Z"
   },
   {
    "duration": 27,
    "start_time": "2022-02-05T12:38:20.758Z"
   },
   {
    "duration": 113,
    "start_time": "2022-02-05T12:38:20.786Z"
   },
   {
    "duration": 1370,
    "start_time": "2022-02-05T12:38:20.901Z"
   },
   {
    "duration": 691,
    "start_time": "2022-02-05T12:38:22.273Z"
   },
   {
    "duration": 24484,
    "start_time": "2022-02-05T12:38:22.966Z"
   },
   {
    "duration": 32,
    "start_time": "2022-02-05T12:38:47.452Z"
   },
   {
    "duration": 412,
    "start_time": "2022-02-05T12:38:47.486Z"
   },
   {
    "duration": -99,
    "start_time": "2022-02-05T12:38:47.999Z"
   },
   {
    "duration": 860,
    "start_time": "2022-02-05T12:40:06.024Z"
   },
   {
    "duration": 471,
    "start_time": "2022-02-05T12:40:28.413Z"
   },
   {
    "duration": 23682,
    "start_time": "2022-02-05T12:40:52.181Z"
   },
   {
    "duration": 20,
    "start_time": "2022-02-05T12:42:18.428Z"
   },
   {
    "duration": 1069,
    "start_time": "2022-02-05T12:42:29.018Z"
   },
   {
    "duration": 42,
    "start_time": "2022-02-05T12:42:30.089Z"
   },
   {
    "duration": 40,
    "start_time": "2022-02-05T12:42:30.133Z"
   },
   {
    "duration": 3,
    "start_time": "2022-02-05T12:42:30.175Z"
   },
   {
    "duration": 46,
    "start_time": "2022-02-05T12:42:30.179Z"
   },
   {
    "duration": 18,
    "start_time": "2022-02-05T12:42:30.226Z"
   },
   {
    "duration": 28,
    "start_time": "2022-02-05T12:42:30.245Z"
   },
   {
    "duration": 22,
    "start_time": "2022-02-05T12:42:30.275Z"
   },
   {
    "duration": 24,
    "start_time": "2022-02-05T12:42:30.298Z"
   },
   {
    "duration": 27,
    "start_time": "2022-02-05T12:42:30.324Z"
   },
   {
    "duration": 56,
    "start_time": "2022-02-05T12:42:30.352Z"
   },
   {
    "duration": 41,
    "start_time": "2022-02-05T12:42:30.409Z"
   },
   {
    "duration": 140,
    "start_time": "2022-02-05T12:42:30.451Z"
   },
   {
    "duration": 135,
    "start_time": "2022-02-05T12:42:30.593Z"
   },
   {
    "duration": 4,
    "start_time": "2022-02-05T12:42:30.730Z"
   },
   {
    "duration": 6,
    "start_time": "2022-02-05T12:42:30.736Z"
   },
   {
    "duration": 19081,
    "start_time": "2022-02-05T12:42:30.743Z"
   },
   {
    "duration": 5,
    "start_time": "2022-02-05T12:42:49.826Z"
   },
   {
    "duration": 53,
    "start_time": "2022-02-05T12:42:49.833Z"
   },
   {
    "duration": 92,
    "start_time": "2022-02-05T12:42:49.888Z"
   },
   {
    "duration": 22,
    "start_time": "2022-02-05T12:42:49.982Z"
   },
   {
    "duration": 121,
    "start_time": "2022-02-05T12:42:50.006Z"
   },
   {
    "duration": 880,
    "start_time": "2022-02-05T12:42:50.130Z"
   },
   {
    "duration": 477,
    "start_time": "2022-02-05T12:42:51.012Z"
   },
   {
    "duration": 23652,
    "start_time": "2022-02-05T12:42:51.491Z"
   },
   {
    "duration": 26,
    "start_time": "2022-02-05T12:43:15.145Z"
   },
   {
    "duration": 423,
    "start_time": "2022-02-05T12:43:15.173Z"
   },
   {
    "duration": -493,
    "start_time": "2022-02-05T12:43:16.091Z"
   },
   {
    "duration": 113,
    "start_time": "2022-02-05T12:45:16.791Z"
   },
   {
    "duration": 1490,
    "start_time": "2022-02-05T12:45:39.748Z"
   },
   {
    "duration": 330,
    "start_time": "2022-02-05T12:49:15.521Z"
   },
   {
    "duration": 169,
    "start_time": "2022-02-05T12:49:24.138Z"
   },
   {
    "duration": 298,
    "start_time": "2022-02-05T12:49:29.445Z"
   },
   {
    "duration": 6,
    "start_time": "2022-02-05T12:49:37.180Z"
   },
   {
    "duration": 1056,
    "start_time": "2022-02-05T12:50:01.330Z"
   },
   {
    "duration": 41,
    "start_time": "2022-02-05T12:50:02.387Z"
   },
   {
    "duration": 33,
    "start_time": "2022-02-05T12:50:02.430Z"
   },
   {
    "duration": 7,
    "start_time": "2022-02-05T12:50:02.465Z"
   },
   {
    "duration": 11,
    "start_time": "2022-02-05T12:50:02.474Z"
   },
   {
    "duration": 6,
    "start_time": "2022-02-05T12:50:02.486Z"
   },
   {
    "duration": 9,
    "start_time": "2022-02-05T12:50:02.493Z"
   },
   {
    "duration": 4,
    "start_time": "2022-02-05T12:50:02.503Z"
   },
   {
    "duration": 7,
    "start_time": "2022-02-05T12:50:02.510Z"
   },
   {
    "duration": 6,
    "start_time": "2022-02-05T12:50:02.518Z"
   },
   {
    "duration": 64,
    "start_time": "2022-02-05T12:50:02.525Z"
   },
   {
    "duration": 39,
    "start_time": "2022-02-05T12:50:02.591Z"
   },
   {
    "duration": 140,
    "start_time": "2022-02-05T12:50:02.631Z"
   },
   {
    "duration": 128,
    "start_time": "2022-02-05T12:50:02.773Z"
   },
   {
    "duration": 6,
    "start_time": "2022-02-05T12:50:02.903Z"
   },
   {
    "duration": 9,
    "start_time": "2022-02-05T12:50:02.910Z"
   },
   {
    "duration": 18812,
    "start_time": "2022-02-05T12:50:02.921Z"
   },
   {
    "duration": 4,
    "start_time": "2022-02-05T12:50:21.735Z"
   },
   {
    "duration": 53,
    "start_time": "2022-02-05T12:50:21.741Z"
   },
   {
    "duration": 81,
    "start_time": "2022-02-05T12:50:21.796Z"
   },
   {
    "duration": 19,
    "start_time": "2022-02-05T12:50:21.879Z"
   },
   {
    "duration": 127,
    "start_time": "2022-02-05T12:50:21.900Z"
   },
   {
    "duration": 1445,
    "start_time": "2022-02-05T12:50:22.029Z"
   },
   {
    "duration": 526,
    "start_time": "2022-02-05T12:50:23.476Z"
   },
   {
    "duration": 25178,
    "start_time": "2022-02-05T12:50:24.004Z"
   },
   {
    "duration": 20,
    "start_time": "2022-02-05T12:50:49.183Z"
   },
   {
    "duration": 161,
    "start_time": "2022-02-05T12:50:49.206Z"
   },
   {
    "duration": 6,
    "start_time": "2022-02-05T12:50:49.368Z"
   },
   {
    "duration": 303,
    "start_time": "2022-02-06T09:30:53.400Z"
   },
   {
    "duration": 1243,
    "start_time": "2022-02-06T09:31:19.406Z"
   },
   {
    "duration": 46,
    "start_time": "2022-02-06T09:31:20.651Z"
   },
   {
    "duration": 45,
    "start_time": "2022-02-06T09:31:20.700Z"
   },
   {
    "duration": 4,
    "start_time": "2022-02-06T09:31:20.747Z"
   },
   {
    "duration": 29,
    "start_time": "2022-02-06T09:31:20.754Z"
   },
   {
    "duration": 23,
    "start_time": "2022-02-06T09:31:20.785Z"
   },
   {
    "duration": 20,
    "start_time": "2022-02-06T09:31:20.811Z"
   },
   {
    "duration": 9,
    "start_time": "2022-02-06T09:31:20.835Z"
   },
   {
    "duration": 27,
    "start_time": "2022-02-06T09:31:20.847Z"
   },
   {
    "duration": 19,
    "start_time": "2022-02-06T09:31:20.876Z"
   },
   {
    "duration": 57,
    "start_time": "2022-02-06T09:31:20.897Z"
   },
   {
    "duration": 68,
    "start_time": "2022-02-06T09:31:20.956Z"
   },
   {
    "duration": 177,
    "start_time": "2022-02-06T09:31:21.026Z"
   },
   {
    "duration": 178,
    "start_time": "2022-02-06T09:31:21.205Z"
   },
   {
    "duration": 5,
    "start_time": "2022-02-06T09:31:21.384Z"
   },
   {
    "duration": 13,
    "start_time": "2022-02-06T09:31:21.399Z"
   },
   {
    "duration": 22387,
    "start_time": "2022-02-06T09:31:21.414Z"
   },
   {
    "duration": 5,
    "start_time": "2022-02-06T09:31:43.803Z"
   },
   {
    "duration": 61,
    "start_time": "2022-02-06T09:31:43.810Z"
   },
   {
    "duration": 96,
    "start_time": "2022-02-06T09:31:43.873Z"
   },
   {
    "duration": 35,
    "start_time": "2022-02-06T09:31:43.971Z"
   },
   {
    "duration": 143,
    "start_time": "2022-02-06T09:31:44.008Z"
   },
   {
    "duration": 1816,
    "start_time": "2022-02-06T09:31:44.155Z"
   },
   {
    "duration": 569,
    "start_time": "2022-02-06T09:31:45.973Z"
   },
   {
    "duration": 28893,
    "start_time": "2022-02-06T09:31:46.544Z"
   },
   {
    "duration": 27,
    "start_time": "2022-02-06T09:32:15.439Z"
   },
   {
    "duration": 224,
    "start_time": "2022-02-06T09:32:15.467Z"
   },
   {
    "duration": 9,
    "start_time": "2022-02-06T09:32:15.693Z"
   },
   {
    "duration": 25,
    "start_time": "2022-02-06T09:32:49.340Z"
   },
   {
    "duration": 25,
    "start_time": "2022-02-06T09:33:14.463Z"
   },
   {
    "duration": 251,
    "start_time": "2022-02-06T09:33:17.394Z"
   },
   {
    "duration": 1170,
    "start_time": "2022-02-06T09:33:36.880Z"
   },
   {
    "duration": 48,
    "start_time": "2022-02-06T09:33:38.052Z"
   },
   {
    "duration": 46,
    "start_time": "2022-02-06T09:33:38.102Z"
   },
   {
    "duration": 3,
    "start_time": "2022-02-06T09:33:38.151Z"
   },
   {
    "duration": 14,
    "start_time": "2022-02-06T09:33:38.156Z"
   },
   {
    "duration": 29,
    "start_time": "2022-02-06T09:33:38.172Z"
   },
   {
    "duration": 5,
    "start_time": "2022-02-06T09:33:38.203Z"
   },
   {
    "duration": 7,
    "start_time": "2022-02-06T09:33:38.210Z"
   },
   {
    "duration": 9,
    "start_time": "2022-02-06T09:33:38.221Z"
   },
   {
    "duration": 10,
    "start_time": "2022-02-06T09:33:38.233Z"
   },
   {
    "duration": 79,
    "start_time": "2022-02-06T09:33:38.244Z"
   },
   {
    "duration": 49,
    "start_time": "2022-02-06T09:33:38.325Z"
   },
   {
    "duration": 188,
    "start_time": "2022-02-06T09:33:38.376Z"
   },
   {
    "duration": 179,
    "start_time": "2022-02-06T09:33:38.566Z"
   },
   {
    "duration": 5,
    "start_time": "2022-02-06T09:33:38.747Z"
   },
   {
    "duration": 8,
    "start_time": "2022-02-06T09:33:38.754Z"
   },
   {
    "duration": 21717,
    "start_time": "2022-02-06T09:33:38.763Z"
   },
   {
    "duration": 7,
    "start_time": "2022-02-06T09:34:00.482Z"
   },
   {
    "duration": 54,
    "start_time": "2022-02-06T09:34:00.498Z"
   },
   {
    "duration": 108,
    "start_time": "2022-02-06T09:34:00.555Z"
   },
   {
    "duration": 35,
    "start_time": "2022-02-06T09:34:00.666Z"
   },
   {
    "duration": 144,
    "start_time": "2022-02-06T09:34:00.703Z"
   },
   {
    "duration": 1827,
    "start_time": "2022-02-06T09:34:00.849Z"
   },
   {
    "duration": 566,
    "start_time": "2022-02-06T09:34:02.679Z"
   },
   {
    "duration": 29172,
    "start_time": "2022-02-06T09:34:03.247Z"
   },
   {
    "duration": 26,
    "start_time": "2022-02-06T09:34:32.421Z"
   },
   {
    "duration": 226,
    "start_time": "2022-02-06T09:34:32.452Z"
   },
   {
    "duration": 20,
    "start_time": "2022-02-06T09:34:32.680Z"
   },
   {
    "duration": 24,
    "start_time": "2022-02-06T09:34:48.271Z"
   },
   {
    "duration": 1129,
    "start_time": "2022-02-06T09:34:55.546Z"
   },
   {
    "duration": 47,
    "start_time": "2022-02-06T09:34:56.677Z"
   },
   {
    "duration": 46,
    "start_time": "2022-02-06T09:34:56.726Z"
   },
   {
    "duration": 4,
    "start_time": "2022-02-06T09:34:56.774Z"
   },
   {
    "duration": 23,
    "start_time": "2022-02-06T09:34:56.779Z"
   },
   {
    "duration": 16,
    "start_time": "2022-02-06T09:34:56.803Z"
   },
   {
    "duration": 11,
    "start_time": "2022-02-06T09:34:56.821Z"
   },
   {
    "duration": 9,
    "start_time": "2022-02-06T09:34:56.834Z"
   },
   {
    "duration": 12,
    "start_time": "2022-02-06T09:34:56.845Z"
   },
   {
    "duration": 11,
    "start_time": "2022-02-06T09:34:56.858Z"
   },
   {
    "duration": 66,
    "start_time": "2022-02-06T09:34:56.871Z"
   },
   {
    "duration": 60,
    "start_time": "2022-02-06T09:34:56.939Z"
   },
   {
    "duration": 175,
    "start_time": "2022-02-06T09:34:57.000Z"
   },
   {
    "duration": 175,
    "start_time": "2022-02-06T09:34:57.177Z"
   },
   {
    "duration": 4,
    "start_time": "2022-02-06T09:34:57.354Z"
   },
   {
    "duration": 7,
    "start_time": "2022-02-06T09:34:57.360Z"
   },
   {
    "duration": 22531,
    "start_time": "2022-02-06T09:34:57.369Z"
   },
   {
    "duration": 6,
    "start_time": "2022-02-06T09:35:19.901Z"
   },
   {
    "duration": 46,
    "start_time": "2022-02-06T09:35:19.908Z"
   },
   {
    "duration": 111,
    "start_time": "2022-02-06T09:35:19.956Z"
   },
   {
    "duration": 35,
    "start_time": "2022-02-06T09:35:20.069Z"
   },
   {
    "duration": 140,
    "start_time": "2022-02-06T09:35:20.106Z"
   },
   {
    "duration": 1802,
    "start_time": "2022-02-06T09:35:20.249Z"
   },
   {
    "duration": 566,
    "start_time": "2022-02-06T09:35:22.053Z"
   },
   {
    "duration": 28773,
    "start_time": "2022-02-06T09:35:22.621Z"
   },
   {
    "duration": 25,
    "start_time": "2022-02-06T09:35:51.399Z"
   },
   {
    "duration": 211,
    "start_time": "2022-02-06T09:35:51.427Z"
   },
   {
    "duration": 6,
    "start_time": "2022-02-06T09:35:51.640Z"
   }
  ],
  "kernelspec": {
   "display_name": "Python 3 (ipykernel)",
   "language": "python",
   "name": "python3"
  },
  "language_info": {
   "codemirror_mode": {
    "name": "ipython",
    "version": 3
   },
   "file_extension": ".py",
   "mimetype": "text/x-python",
   "name": "python",
   "nbconvert_exporter": "python",
   "pygments_lexer": "ipython3",
   "version": "3.9.7"
  },
  "toc": {
   "base_numbering": 1,
   "nav_menu": {},
   "number_sections": true,
   "sideBar": true,
   "skip_h1_title": true,
   "title_cell": "Содержание",
   "title_sidebar": "Contents",
   "toc_cell": true,
   "toc_position": {},
   "toc_section_display": true,
   "toc_window_display": false
  }
 },
 "nbformat": 4,
 "nbformat_minor": 2
}
